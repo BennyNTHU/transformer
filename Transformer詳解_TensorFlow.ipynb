{
 "cells": [
  {
   "cell_type": "code",
   "execution_count": 1,
   "id": "3e1fa03a",
   "metadata": {},
   "outputs": [
    {
     "name": "stderr",
     "output_type": "stream",
     "text": [
      "2024-07-23 23:10:07.934633: I tensorflow/core/platform/cpu_feature_guard.cc:193] This TensorFlow binary is optimized with oneAPI Deep Neural Network Library (oneDNN) to use the following CPU instructions in performance-critical operations:  AVX2 AVX_VNNI FMA\n",
      "To enable them in other operations, rebuild TensorFlow with the appropriate compiler flags.\n",
      "2024-07-23 23:10:08.027495: I tensorflow/core/util/util.cc:169] oneDNN custom operations are on. You may see slightly different numerical results due to floating-point round-off errors from different computation orders. To turn them off, set the environment variable `TF_ENABLE_ONEDNN_OPTS=0`.\n",
      "2024-07-23 23:10:08.051769: E tensorflow/stream_executor/cuda/cuda_blas.cc:2981] Unable to register cuBLAS factory: Attempting to register factory for plugin cuBLAS when one has already been registered\n",
      "2024-07-23 23:10:08.327881: W tensorflow/stream_executor/platform/default/dso_loader.cc:64] Could not load dynamic library 'libnvinfer.so.7'; dlerror: libnvinfer.so.7: cannot open shared object file: No such file or directory\n",
      "2024-07-23 23:10:08.327929: W tensorflow/stream_executor/platform/default/dso_loader.cc:64] Could not load dynamic library 'libnvinfer_plugin.so.7'; dlerror: libnvinfer_plugin.so.7: cannot open shared object file: No such file or directory\n",
      "2024-07-23 23:10:08.327932: W tensorflow/compiler/tf2tensorrt/utils/py_utils.cc:38] TF-TRT Warning: Cannot dlopen some TensorRT libraries. If you would like to use Nvidia GPU with TensorRT, please make sure the missing libraries mentioned above are installed properly.\n"
     ]
    }
   ],
   "source": [
    "import time\n",
    "import logging\n",
    "import numpy as np\n",
    "import tensorflow as tf\n",
    "import tensorflow_text as text\n",
    "import matplotlib.pyplot as plt\n",
    "import tensorflow_datasets as tfds"
   ]
  },
  {
   "cell_type": "code",
   "execution_count": 2,
   "id": "234c6904-e8fe-4f63-920d-eae7a0e80ae1",
   "metadata": {},
   "outputs": [
    {
     "name": "stdout",
     "output_type": "stream",
     "text": [
      "WARNING:tensorflow:From /tmp/ipykernel_109210/1897261821.py:1: is_gpu_available (from tensorflow.python.framework.test_util) is deprecated and will be removed in a future version.\n",
      "Instructions for updating:\n",
      "Use `tf.config.list_physical_devices('GPU')` instead.\n",
      "True\n",
      "[PhysicalDevice(name='/physical_device:GPU:0', device_type='GPU')]\n"
     ]
    },
    {
     "name": "stderr",
     "output_type": "stream",
     "text": [
      "2024-07-23 23:10:08.951525: I tensorflow/core/platform/cpu_feature_guard.cc:193] This TensorFlow binary is optimized with oneAPI Deep Neural Network Library (oneDNN) to use the following CPU instructions in performance-critical operations:  AVX2 AVX_VNNI FMA\n",
      "To enable them in other operations, rebuild TensorFlow with the appropriate compiler flags.\n",
      "2024-07-23 23:10:08.987807: I tensorflow/stream_executor/cuda/cuda_gpu_executor.cc:980] successful NUMA node read from SysFS had negative value (-1), but there must be at least one NUMA node, so returning NUMA node zero\n",
      "2024-07-23 23:10:09.033147: I tensorflow/stream_executor/cuda/cuda_gpu_executor.cc:980] successful NUMA node read from SysFS had negative value (-1), but there must be at least one NUMA node, so returning NUMA node zero\n",
      "2024-07-23 23:10:09.033251: I tensorflow/stream_executor/cuda/cuda_gpu_executor.cc:980] successful NUMA node read from SysFS had negative value (-1), but there must be at least one NUMA node, so returning NUMA node zero\n",
      "2024-07-23 23:10:09.316632: I tensorflow/stream_executor/cuda/cuda_gpu_executor.cc:980] successful NUMA node read from SysFS had negative value (-1), but there must be at least one NUMA node, so returning NUMA node zero\n",
      "2024-07-23 23:10:09.316745: I tensorflow/stream_executor/cuda/cuda_gpu_executor.cc:980] successful NUMA node read from SysFS had negative value (-1), but there must be at least one NUMA node, so returning NUMA node zero\n",
      "2024-07-23 23:10:09.316798: I tensorflow/stream_executor/cuda/cuda_gpu_executor.cc:980] successful NUMA node read from SysFS had negative value (-1), but there must be at least one NUMA node, so returning NUMA node zero\n",
      "2024-07-23 23:10:09.316857: I tensorflow/core/common_runtime/gpu/gpu_device.cc:1616] Created device /device:GPU:0 with 22108 MB memory:  -> device: 0, name: NVIDIA GeForce RTX 4090, pci bus id: 0000:01:00.0, compute capability: 8.9\n",
      "2024-07-23 23:10:09.317577: I tensorflow/stream_executor/cuda/cuda_gpu_executor.cc:980] successful NUMA node read from SysFS had negative value (-1), but there must be at least one NUMA node, so returning NUMA node zero\n",
      "2024-07-23 23:10:09.317660: I tensorflow/stream_executor/cuda/cuda_gpu_executor.cc:980] successful NUMA node read from SysFS had negative value (-1), but there must be at least one NUMA node, so returning NUMA node zero\n",
      "2024-07-23 23:10:09.317707: I tensorflow/stream_executor/cuda/cuda_gpu_executor.cc:980] successful NUMA node read from SysFS had negative value (-1), but there must be at least one NUMA node, so returning NUMA node zero\n"
     ]
    }
   ],
   "source": [
    "print(tf.test.is_gpu_available())\n",
    "print(tf.config.list_physical_devices('GPU'))"
   ]
  },
  {
   "cell_type": "markdown",
   "id": "82aa2d4f",
   "metadata": {},
   "source": [
    "# 一. Scaled Dot-Product Attention機制"
   ]
  },
  {
   "cell_type": "markdown",
   "id": "2fc93399",
   "metadata": {},
   "source": [
    "## 1. Scaled Dot-Product Attention實作"
   ]
  },
  {
   "cell_type": "markdown",
   "id": "93440abc-826d-4935-815d-62f8035d5035",
   "metadata": {},
   "source": [
    "### (1) Masking"
   ]
  },
  {
   "cell_type": "markdown",
   "id": "a1606067-68c1-4646-bea4-6c226cbf6b0e",
   "metadata": {},
   "source": [
    "![jupyter](./picture/masking.jpg)"
   ]
  },
  {
   "cell_type": "markdown",
   "id": "bb397e9d-e637-46c1-836e-2976ea01ab3e",
   "metadata": {},
   "source": [
    "搞錯了，並不是這個Masking。這裡的Masking是會把某些特定位置的元素給遮起來。"
   ]
  },
  {
   "cell_type": "code",
   "execution_count": 3,
   "id": "059a8190-0dd2-42f9-836a-a286a81fed75",
   "metadata": {},
   "outputs": [],
   "source": [
    "def create_padding_mask(seq):\n",
    "    seq = tf.cast(tf.math.equal(seq, 0), tf.float32)\n",
    "    return seq[:, tf.newaxis, tf.newaxis, :]  # (batch_size, 1, 1, seq_len)"
   ]
  },
  {
   "cell_type": "code",
   "execution_count": 4,
   "id": "7267730d-a427-4bb5-97de-adf96543bab1",
   "metadata": {},
   "outputs": [],
   "source": [
    "def create_look_ahead_mask(size):\n",
    "    mask = 1 - tf.linalg.band_part(tf.ones((size, size)), -1, 0)\n",
    "    return mask  # (seq_len, seq_len)"
   ]
  },
  {
   "cell_type": "markdown",
   "id": "e1bc4d54-6fc0-4453-b775-d3d058cf112f",
   "metadata": {},
   "source": [
    "比如以下這個例子。"
   ]
  },
  {
   "cell_type": "code",
   "execution_count": 5,
   "id": "c64efea4-e3a3-46fc-8505-8c517d554814",
   "metadata": {},
   "outputs": [
    {
     "name": "stderr",
     "output_type": "stream",
     "text": [
      "2024-07-23 23:10:09.343824: I tensorflow/stream_executor/cuda/cuda_gpu_executor.cc:980] successful NUMA node read from SysFS had negative value (-1), but there must be at least one NUMA node, so returning NUMA node zero\n",
      "2024-07-23 23:10:09.344003: I tensorflow/stream_executor/cuda/cuda_gpu_executor.cc:980] successful NUMA node read from SysFS had negative value (-1), but there must be at least one NUMA node, so returning NUMA node zero\n",
      "2024-07-23 23:10:09.344100: I tensorflow/stream_executor/cuda/cuda_gpu_executor.cc:980] successful NUMA node read from SysFS had negative value (-1), but there must be at least one NUMA node, so returning NUMA node zero\n",
      "2024-07-23 23:10:09.344241: I tensorflow/stream_executor/cuda/cuda_gpu_executor.cc:980] successful NUMA node read from SysFS had negative value (-1), but there must be at least one NUMA node, so returning NUMA node zero\n",
      "2024-07-23 23:10:09.344341: I tensorflow/stream_executor/cuda/cuda_gpu_executor.cc:980] successful NUMA node read from SysFS had negative value (-1), but there must be at least one NUMA node, so returning NUMA node zero\n",
      "2024-07-23 23:10:09.344417: I tensorflow/core/common_runtime/gpu/gpu_device.cc:1616] Created device /job:localhost/replica:0/task:0/device:GPU:0 with 22108 MB memory:  -> device: 0, name: NVIDIA GeForce RTX 4090, pci bus id: 0000:01:00.0, compute capability: 8.9\n"
     ]
    },
    {
     "data": {
      "text/plain": [
       "<tf.Tensor: shape=(3, 1, 1, 5), dtype=float32, numpy=\n",
       "array([[[[0., 0., 1., 1., 0.]]],\n",
       "\n",
       "\n",
       "       [[[0., 0., 0., 1., 1.]]],\n",
       "\n",
       "\n",
       "       [[[1., 1., 1., 0., 0.]]]], dtype=float32)>"
      ]
     },
     "execution_count": 5,
     "metadata": {},
     "output_type": "execute_result"
    }
   ],
   "source": [
    "x = tf.constant([[7, 6, 0, 0, 1], [1, 2, 3, 0, 0], [0, 0, 0, 4, 5]])\n",
    "create_padding_mask(x)"
   ]
  },
  {
   "cell_type": "markdown",
   "id": "0bd722c3-d6f3-44d0-997a-d1ff3199226a",
   "metadata": {},
   "source": [
    "讓我們看看被遮起來的張量長什麼樣子。"
   ]
  },
  {
   "cell_type": "code",
   "execution_count": 6,
   "id": "fe2f1070-eaac-451a-a710-1500ff550e8c",
   "metadata": {},
   "outputs": [
    {
     "data": {
      "text/plain": [
       "<tf.Tensor: shape=(3, 3), dtype=float32, numpy=\n",
       "array([[0., 1., 1.],\n",
       "       [0., 0., 1.],\n",
       "       [0., 0., 0.]], dtype=float32)>"
      ]
     },
     "execution_count": 6,
     "metadata": {},
     "output_type": "execute_result"
    }
   ],
   "source": [
    "x = tf.random.uniform((1, 3))\n",
    "temp = create_look_ahead_mask(x.shape[1])\n",
    "temp"
   ]
  },
  {
   "cell_type": "markdown",
   "id": "e164c881-1151-4072-8358-dc16d666e4c1",
   "metadata": {},
   "source": [
    "### (2) Attention"
   ]
  },
  {
   "cell_type": "markdown",
   "id": "c9c1c33a-34d4-49b2-8c08-5e6e02bcbe75",
   "metadata": {},
   "source": [
    "![jupyter](./picture/scaled_dot_product_attention.png)"
   ]
  },
  {
   "cell_type": "markdown",
   "id": "7c9c20f2-3b89-4b7c-a866-3053e3ca90ca",
   "metadata": {},
   "source": [
    "假設我們以$d$維的tensor來表示圖片。現有一張圖片$\\mathbf{Q}$ (query)這張圖片中某一個部分為$\\mathbf{K}$ (key)，例如一個瓶子或一張桌子。我們問：另一張以$d$維的tensor來表示的圖片$\\mathbf{V}$ (value)之中，在與$\\mathbf{Q}$相同的位置上有沒有$\\mathbf{K}$的存在呢？\n",
    "\n",
    "可以將將$\\mathbf{Q}$和$\\mathbf{K}$相乘後，$\\mathbf{Q}$與$\\mathbf{K}$相近的部分將會擁有比較大的值。新得出的tensor稱為attention map。此attention map再經過一個scale(以及一個mask會把某些部分的值換成一個很接近0的數字，如果有必要的話)，避免它的值爆掉。接著按照機器學習的老招數經過SoftMax值，我們就得到了一個直觀上功能類似filter的tensor，稱為attention weight。將此attention weight跟$\\mathbf{V}$相乘，就可以找出$\\mathbf{V}$在相同位置上是否有類似$\\mathbf{K}$的存在。\n",
    "\n",
    "attention weight可以通過一個dropout層避免overfitting。\n",
    "\n",
    "注意：Scaling的時候並沒有規定一定要除以(或乘以)多少。它的目的只是避免值爆掉導致梯度算不出來。注意$\\mathbf{K}$未必是$d$維的tensor，但我們可以透過replication和padding或其他方式讓它變成$d$維。\n",
    "\n",
    "依上圖可以將此結構寫出來。注意到在這個函式中沒有任何參數需要訓練。"
   ]
  },
  {
   "cell_type": "code",
   "execution_count": 7,
   "id": "3cc390c3-dc4e-4300-a9ee-cca595bf2ab0",
   "metadata": {},
   "outputs": [],
   "source": [
    "def scaled_dot_product_attention(q, k, v, mask):\n",
    "    ''' args:\n",
    "        q: query的size == (..., seq_len_q, depth)\n",
    "        k: key的size == (..., seq_len_k, depth)\n",
    "        v: value的size  == (..., seq_len_v, depth_v)\n",
    "        注意到q,k,v的size的倒數第三個維度以前必須相等\n",
    "        注意seq_len_k = seq_len_v\n",
    "        mask: Float tensor,能變形為(..., seq_len_q, seq_len_k),預設為None\n",
    "    \n",
    "        output: attention後的結果與attention map\n",
    "    '''\n",
    "\n",
    "    matmul_qk = tf.matmul(q, k, transpose_b=True)  # (..., seq_len_q, seq_len_k)\n",
    "  \n",
    "    # 將matmul_qk變形\n",
    "    dk = tf.cast(tf.shape(k)[-1], tf.float32)\n",
    "    scaled_attention_logits = matmul_qk / tf.math.sqrt(dk)\n",
    "\n",
    "    # 放置mask\n",
    "    if mask is not None:\n",
    "        scaled_attention_logits += (mask * -1e9)  \n",
    "\n",
    "    # 通過softmax層並將attention map跟value相乘\n",
    "    attention_weights = tf.nn.softmax(scaled_attention_logits, axis=-1)  # (..., seq_len_q, seq_len_k)\n",
    "    output = tf.matmul(attention_weights, v)  # (..., seq_len_q, depth_v)\n",
    "\n",
    "    return output, attention_weights"
   ]
  },
  {
   "cell_type": "markdown",
   "id": "92612111-6b70-44ec-82c4-22e00d2378c5",
   "metadata": {},
   "source": [
    "讓我們舉幾個例子。隨機打出三個張量代表$\\mathbf{Q},\\mathbf{K},\\mathbf{V}$。"
   ]
  },
  {
   "cell_type": "code",
   "execution_count": 8,
   "id": "601b7614-17fb-477e-a82b-46f8421608ba",
   "metadata": {},
   "outputs": [],
   "source": [
    "def print_out(q, k, v):\n",
    "    temp_out, temp_attn = scaled_dot_product_attention(q, k, v, None)\n",
    "    print ('Attention weights are:')\n",
    "    print (temp_attn)\n",
    "    print ('Output is:')\n",
    "    print (temp_out)"
   ]
  },
  {
   "cell_type": "code",
   "execution_count": 9,
   "id": "d5af3765-615c-4a57-aaeb-bd6d90d5edec",
   "metadata": {},
   "outputs": [],
   "source": [
    "np.set_printoptions(suppress=True)"
   ]
  },
  {
   "cell_type": "code",
   "execution_count": 10,
   "id": "c3b6cfdf-721e-45d4-814e-0dece8e3435b",
   "metadata": {},
   "outputs": [
    {
     "name": "stdout",
     "output_type": "stream",
     "text": [
      "Attention weights are:\n",
      "tf.Tensor(\n",
      "[[0.  0.  0.5 0.5]\n",
      " [0.  1.  0.  0. ]\n",
      " [0.5 0.5 0.  0. ]], shape=(3, 4), dtype=float32)\n",
      "Output is:\n",
      "tf.Tensor(\n",
      "[[550.    5.5]\n",
      " [ 10.    0. ]\n",
      " [  5.5   0. ]], shape=(3, 2), dtype=float32)\n"
     ]
    },
    {
     "name": "stderr",
     "output_type": "stream",
     "text": [
      "2024-07-23 23:10:10.253044: I tensorflow/stream_executor/cuda/cuda_blas.cc:1614] TensorFloat-32 will be used for the matrix multiplication. This will only be logged once.\n"
     ]
    }
   ],
   "source": [
    "temp_q = tf.constant([[0, 0, 10], \n",
    "                      [0, 10, 0], \n",
    "                      [10, 10, 0]], dtype=tf.float32)  # (3, 3)\n",
    "temp_k = tf.constant([[10,0,0],\n",
    "                      [0,10,0],\n",
    "                      [0,0,10],\n",
    "                      [0,0,10]], dtype=tf.float32)  # (4, 3)\n",
    "temp_v = tf.constant([[   1,0],\n",
    "                      [  10,0],\n",
    "                      [ 100,5],\n",
    "                      [1000,6]], dtype=tf.float32)  # (4, 2)\n",
    "print_out(temp_q, temp_k, temp_v)"
   ]
  },
  {
   "cell_type": "markdown",
   "id": "71deb45c",
   "metadata": {},
   "source": [
    "## 2. Multi-head Attention"
   ]
  },
  {
   "cell_type": "markdown",
   "id": "18eb1a3f",
   "metadata": {},
   "source": [
    "![jupyter](./picture/mha_img_original.png)\n",
    "![jupyter](./picture/multihead.png)"
   ]
  },
  {
   "cell_type": "markdown",
   "id": "88ebfa5a",
   "metadata": {},
   "source": [
    "如果$\\mathbf{Q}, \\mathbf{K}, \\mathbf{V}$這三個tensor都分別被我們平分為$h$份，得到$\\mathbf{Q}_1,...,\\mathbf{Q}_h$, $\\mathbf{K}_1,...,\\mathbf{K}_h$, $\\mathbf{V}_1,...,\\mathbf{V}_h$。那麼我們可以將$(\\mathbf{Q}_i,\\mathbf{K}_i,\\mathbf{V}_i)$, $i=1,...,h$分別做attention。具體的方法是：\n",
    "1. 將$\\mathbf{Q}, \\mathbf{K}, \\mathbf{V}$分別過一個linear layer\n",
    "2. 將$\\mathbf{Q}, \\mathbf{K}, \\mathbf{V}$這三個tensor都分別被我們平分為$h$份，\n",
    "3. 將$(\\mathbf{Q}_i,\\mathbf{K}_i,\\mathbf{V}_i)$, $i=1,...,h$分別做Scaled Dot-Product attention\n",
    "4. 將output出來的heat map接起來\n",
    "5. 最後過一個linear layer得到output。\n",
    "此過程就稱為稱為$h$-head之multi-head attention。\n",
    "\n",
    "此方法亦可推廣到self-attention的情形。考慮自然語言的情形。當一句話有$N$個token，且每個token的embedding，比方說，都有512個分量。此時我們可以將這512個分量分組，比方說分成8組(稱為8 head)，每組64個分量。這樣一來，一句話的特徵本來是一個$N\\times512$的張量$\\mathbf{B}$，就被我們拆解成了8個$N\\times64$的張量$\\mathbf{B}_1,...,\\mathbf{B}_8$。把這八個張量分別先過一個linear layer，再做self attention，得到8張heat map。我們可以說這代表8種自然語言中implicit的知識。最後，再將這8個heat map接起來並通過一個linear layer就算出Multi-head Attention了。\n",
    "\n",
    "使用scaled_dot_product_attention()來做出multi-head attention。這裡用到view()這個函數，可以將tensor做resize。我們可以用這個方法來做multi-head切割。注意到linear layer是需要被訓練的。"
   ]
  },
  {
   "cell_type": "code",
   "execution_count": 11,
   "id": "a519b831-cc08-483c-9cb9-2c50fdb277e6",
   "metadata": {},
   "outputs": [],
   "source": [
    "class MultiHeadAttention(tf.keras.layers.Layer):\n",
    "    def __init__(self, d_model, num_heads):\n",
    "        super(MultiHeadAttention, self).__init__()\n",
    "        self.num_heads = num_heads\n",
    "        self.d_model = d_model\n",
    "    \n",
    "        assert d_model % self.num_heads == 0\n",
    "    \n",
    "        self.depth = d_model // self.num_heads\n",
    "    \n",
    "        self.wq = tf.keras.layers.Dense(d_model)\n",
    "        self.wk = tf.keras.layers.Dense(d_model)\n",
    "        self.wv = tf.keras.layers.Dense(d_model)\n",
    "    \n",
    "        self.dense = tf.keras.layers.Dense(d_model)\n",
    "        \n",
    "    def split_heads(self, x, batch_size):\n",
    "        \"\"\"\n",
    "        就最後一個維度來拆輸入的張量，會把最後一個維度分到(num_heads, depth)去\n",
    "        接著執行轉置，使size變為(batch_size, num_heads, seq_len, depth)\n",
    "        \"\"\"\n",
    "        x = tf.reshape(x, (batch_size, -1, self.num_heads, self.depth))\n",
    "        return tf.transpose(x, perm=[0, 2, 1, 3])\n",
    "    \n",
    "    def call(self, v, k, q, mask):\n",
    "        batch_size = tf.shape(q)[0]\n",
    "    \n",
    "        q = self.wq(q)  # (batch_size, seq_len, d_model)\n",
    "        k = self.wk(k)  # (batch_size, seq_len, d_model)\n",
    "        v = self.wv(v)  # (batch_size, seq_len, d_model)\n",
    "    \n",
    "        q = self.split_heads(q, batch_size)  # (batch_size, num_heads, seq_len_q, depth)\n",
    "        k = self.split_heads(k, batch_size)  # (batch_size, num_heads, seq_len_k, depth)\n",
    "        v = self.split_heads(v, batch_size)  # (batch_size, num_heads, seq_len_v, depth)\n",
    "\n",
    "        scaled_attention, attention_weights = scaled_dot_product_attention(q, k, v, mask)\n",
    "        scaled_attention = tf.transpose(scaled_attention, perm=[0, 2, 1, 3])  # (batch_size, seq_len_q, num_heads, depth)\n",
    "        concat_attention = tf.reshape(scaled_attention, (batch_size, -1, self.d_model))  # (batch_size, seq_len_q, d_model)\n",
    "        output = self.dense(concat_attention)  # (batch_size, seq_len_q, d_model)\n",
    "        \n",
    "        return output, attention_weights"
   ]
  },
  {
   "cell_type": "markdown",
   "id": "c8f9f3e9-a1fc-446d-871c-0e8f40265032",
   "metadata": {},
   "source": [
    "現在我們隨機生成一個張量，模擬自然語言經過encoding之後的特徵。假設$\\mathbf{Q}, \\mathbf{K}, \\mathbf{V}$分別為三個句子經編碼後而成的張量，每個句子有10個token，每個token的embedding的長度為$d_\\text{model}=512$，並使用8 head來做計算。建立multi-head attention的物件並將$\\mathbf{Q}, \\mathbf{K}, \\mathbf{V}$三個句子送入其中運算。"
   ]
  },
  {
   "cell_type": "code",
   "execution_count": 12,
   "id": "210b0f19-ac33-485f-9c3a-1b39f3e3e7a5",
   "metadata": {},
   "outputs": [],
   "source": [
    "Q = tf.random.uniform((1, 10, 512))  # (batch_size, encoder_sequence, d_model)\n",
    "K = tf.random.uniform((1, 10, 512)) \n",
    "V = tf.random.uniform((1, 10, 512)) "
   ]
  },
  {
   "cell_type": "code",
   "execution_count": 13,
   "id": "e888201c-9d5f-419e-b138-65d7b35a971b",
   "metadata": {},
   "outputs": [
    {
     "data": {
      "text/plain": [
       "(TensorShape([1, 10, 512]), TensorShape([1, 8, 10, 10]))"
      ]
     },
     "execution_count": 13,
     "metadata": {},
     "output_type": "execute_result"
    }
   ],
   "source": [
    "temp_mha = MultiHeadAttention(d_model=512, num_heads=8)\n",
    "out, attn = temp_mha(q=Q, k=K, v=V, mask=None)\n",
    "out.shape, attn.shape"
   ]
  },
  {
   "cell_type": "markdown",
   "id": "0f52c91a-6f0b-4493-9e3b-d8bfb5b597ed",
   "metadata": {},
   "source": [
    "Output的維度為$10\\times512$，與$\\mathbf{Q}, \\mathbf{K}, \\mathbf{V}$一致，符合我們的預期。這8個Attention weights每個的大小都是$10\\times10$，代表8種這幾句話所隱含的知識，也符合我們的預期。Size第一個分量的1代表batch size。"
   ]
  },
  {
   "cell_type": "markdown",
   "id": "1c9c718c",
   "metadata": {},
   "source": [
    "## 3. Self-attention\n",
    "當$\\mathbf{Q}=\\mathbf{K}=\\mathbf{V}$的時候，就稱為self-attention。仿照之前的例子，隨機生成一個張量，模擬自然語言經過encoding之後的特徵。$\\mathbf{Q}$為一個自然語言的句子經編碼後而成的張量，此句子有10個token，每個token的embedding的長度為d_model。設$d_\\text{model}$為512。並使用8 head來做計算。"
   ]
  },
  {
   "cell_type": "code",
   "execution_count": 14,
   "id": "0d693851-ec1d-4ed4-8add-d425a48dbc2a",
   "metadata": {},
   "outputs": [
    {
     "data": {
      "text/plain": [
       "(TensorShape([1, 10, 512]), TensorShape([1, 8, 10, 10]))"
      ]
     },
     "execution_count": 14,
     "metadata": {},
     "output_type": "execute_result"
    }
   ],
   "source": [
    "Q = tf.random.uniform((1, 10, 512))  # (batch_size, encoder_sequence, d_model)\n",
    "temp_mha = MultiHeadAttention(d_model=512, num_heads=8)\n",
    "out, attn = temp_mha(q=Q, k=K, v=V, mask=None)\n",
    "out.shape, attn.shape"
   ]
  },
  {
   "cell_type": "markdown",
   "id": "0f323e6b-adc0-4f05-b5d9-83251cf3e8c9",
   "metadata": {},
   "source": [
    "Output的維度為$10\\times512$，與$\\mathbf{Q}$一致，符合我們的預期。這8個Attention weights每個的大小都是$10\\times10$，代表8種這句話所隱含的知識，也符合我們的預期。Size第一個分量的1代表batch size。"
   ]
  },
  {
   "cell_type": "markdown",
   "id": "1a6dc3c3",
   "metadata": {},
   "source": [
    "# 二. Transformer的Encoder"
   ]
  },
  {
   "cell_type": "markdown",
   "id": "6951b917",
   "metadata": {},
   "source": [
    "## 1. Transformer的Encoder Block\n",
    "這是Encoder block的樣子。就把東西串一串就接出來了。\n",
    "![jupyter](./picture/encoder_block.png)"
   ]
  },
  {
   "cell_type": "markdown",
   "id": "b6d79d02",
   "metadata": {},
   "source": [
    "每一個encoder block分為上下兩個sub-layer。\n",
    "1. Lower sub-layer: 由Multi-head Attention與Add&Norm組成。Add&Norm是將Multi-head Attention的input與output相加後做layer normalization。\n",
    "2. Upper sub-layer: 由數個fully connected layer與Add&Norm組成。Add&Norm會將Lower sublayer的input以及fully connected layer的output相加後做layer normalization。\n",
    "此外原論文也提到，每個sublayer在做Add&Norm都有先接一個dropout。\n",
    "\n",
    "將input和output加起來的手法稱為residual connection，其目的為\n",
    "\n",
    "做layer normalization的目的是為了防止數值爆掉結果算不了梯度。此外，每個encoder block都可以當成一個度規空間。下一層block所代表的度規空間，其物理意義可能與上一層差很多，因此upper sub-layer用fully connected layer代表進行一個非線性的變換，用以連接兩個block。"
   ]
  },
  {
   "cell_type": "markdown",
   "id": "ff5ff935-e704-4fb9-a011-6f713a62f47f",
   "metadata": {},
   "source": [
    "### (1) Point wise feed forward network\n",
    "Upper Layer中的feed forward network直接調用tensorflow就可以了。參數dff指的是該FCN的unit數。"
   ]
  },
  {
   "cell_type": "code",
   "execution_count": 15,
   "id": "aa4d3176-7ae2-4263-9502-b742334fdceb",
   "metadata": {},
   "outputs": [],
   "source": [
    "class FeedForward(tf.keras.layers.Layer):\n",
    "    def __init__(self, d_model, dff, dropout_rate=0.1):\n",
    "        super().__init__()\n",
    "        ''' args\n",
    "            d_model: The dimension of the output embedding\n",
    "            dff: The number of units in the FCNs of each layer\n",
    "            dropout_rate: The dropout rate of each dropout layer in the model\n",
    "        '''\n",
    "        self.seq = tf.keras.Sequential([tf.keras.layers.Dense(dff, activation='relu'),\n",
    "                                        tf.keras.layers.Dense(d_model),\n",
    "                                        tf.keras.layers.Dropout(dropout_rate)])\n",
    "        self.add = tf.keras.layers.Add()\n",
    "        self.layer_norm = tf.keras.layers.LayerNormalization()\n",
    "\n",
    "    def call(self, x):\n",
    "        x = self.add([x, self.seq(x)])\n",
    "        x = self.layer_norm(x) \n",
    "        return x"
   ]
  },
  {
   "cell_type": "markdown",
   "id": "3315cfdf-1fcf-47fe-9ce6-c49d5fe13a90",
   "metadata": {},
   "source": [
    "### (2) Lower sub-layer的實作\n",
    "Multi-head self attention在$\\mathbf{Q}=\\mathbf{K}=\\mathbf{V}$時又可稱global self-attention。不過，我們直接調用tensorflow裡面的Multi-head attention的功能。"
   ]
  },
  {
   "cell_type": "code",
   "execution_count": 16,
   "id": "3efdc565-caa8-425e-90b2-af67935e277d",
   "metadata": {},
   "outputs": [],
   "source": [
    "class BaseAttention(tf.keras.layers.Layer):\n",
    "    def __init__(self, **kwargs):\n",
    "        super().__init__()\n",
    "        self.mha = tf.keras.layers.MultiHeadAttention(**kwargs)\n",
    "        self.layernorm = tf.keras.layers.LayerNormalization()\n",
    "        self.add = tf.keras.layers.Add()"
   ]
  },
  {
   "cell_type": "code",
   "execution_count": 17,
   "id": "fb81a517-edfb-4087-b533-9179e48dddbc",
   "metadata": {},
   "outputs": [],
   "source": [
    "class GlobalSelfAttention(BaseAttention):\n",
    "    def call(self, x):\n",
    "        attn_output = self.mha(query=x, value=x, key=x) # self-attention\n",
    "        x = self.add([x, attn_output])\n",
    "        x = self.layernorm(x)\n",
    "        return x"
   ]
  },
  {
   "cell_type": "markdown",
   "id": "c4b06119-3111-4b2e-a3cd-7d202603b489",
   "metadata": {},
   "source": [
    "### (3) 拼在一起"
   ]
  },
  {
   "cell_type": "code",
   "execution_count": 18,
   "id": "2d3d9fcc-576c-4cbc-ad90-ac0bc2edbdf5",
   "metadata": {},
   "outputs": [],
   "source": [
    "class EncoderLayer(tf.keras.layers.Layer):\n",
    "    def __init__(self,*, d_model, num_heads, dff, dropout_rate=0.1):\n",
    "        super().__init__()\n",
    "        self.self_attention = GlobalSelfAttention(num_heads=num_heads,\n",
    "                                                  key_dim=d_model,\n",
    "                                                  dropout=dropout_rate)\n",
    "        self.ffn = FeedForward(d_model, dff)\n",
    "\n",
    "    def call(self, x):\n",
    "        x = self.self_attention(x)\n",
    "        x = self.ffn(x)\n",
    "        return x"
   ]
  },
  {
   "cell_type": "markdown",
   "id": "a227519c-ae2e-4f74-9dca-c6e3cc89eaf7",
   "metadata": {},
   "source": [
    "測試一下功能是否正常。Input之維度應該要等於Output的維度。"
   ]
  },
  {
   "cell_type": "code",
   "execution_count": 19,
   "id": "1813affa-b9a8-46d9-9ecc-db82b39e8d7b",
   "metadata": {},
   "outputs": [
    {
     "name": "stdout",
     "output_type": "stream",
     "text": [
      "(1, 10, 512)\n",
      "(1, 10, 512)\n"
     ]
    },
    {
     "name": "stderr",
     "output_type": "stream",
     "text": [
      "2024-07-23 23:10:10.981369: I tensorflow/stream_executor/cuda/cuda_dnn.cc:384] Loaded cuDNN version 8204\n"
     ]
    }
   ],
   "source": [
    "Q = tf.random.uniform((1, 10, 512))  # (batch_size, encoder_sequence, d_model)\n",
    "sample_encoder_layer = EncoderLayer(d_model=512, num_heads=8, dff=2048)\n",
    "print(Q.shape)\n",
    "print(sample_encoder_layer(Q).shape)"
   ]
  },
  {
   "cell_type": "markdown",
   "id": "2f27fd71",
   "metadata": {},
   "source": [
    "## 2. Positional Encoding\n",
    "\n",
    "Positional Encoding的物理意義是為模型提供與\"位置\"有關的訊息。因為Encoder block不像RNN有先後關係，也不像CNN反映空間頻率，因此需要另外添加關於每個單詞所在位置的編碼。論文中所用的編碼方式如下：\n",
    "$$\\Large{\\text{PE}(\\text{pos}, 2i) = \\sin\\frac{\\text{pos}}{10000^{2i/d_\\text{model}}}}$$\n",
    "$$\\Large{\\text{PE}(\\text{pos}, 2i+1) = \\cos\\frac{\\text{pos}}{10000^{2i/d_\\text{model}}}}$$\n",
    "\n",
    "所產生的位置編碼$\\mathbf{x}\\in\\mathbb{R}^{d_\\text{model}}$，並將此embedding直接加到input data的embedding之中（雖然聽起來應該要接起來才好，但這招確實有用）。這麼做的物理意義是，因為單字經過編碼後，意義相近的單字更接近。而當位置更相近時，相同的單字更可能有相同的意義，因此才將兩種embedding直接相加。"
   ]
  },
  {
   "cell_type": "code",
   "execution_count": 20,
   "id": "6c449585-5db3-4a59-b177-7c5c4c40a4d8",
   "metadata": {},
   "outputs": [],
   "source": [
    "def positional_encoding(length, depth):\n",
    "    depth = depth/2\n",
    "    \n",
    "    positions = np.arange(length)[:, np.newaxis]     # (seq, 1)\n",
    "    depths = np.arange(depth)[np.newaxis, :]/depth   # (1, depth)\n",
    "  \n",
    "    angle_rates = 1 / (10000**depths)         # (1, depth)\n",
    "    angle_rads = positions * angle_rates      # (pos, depth)\n",
    "\n",
    "    pos_encoding = np.concatenate([np.sin(angle_rads), np.cos(angle_rads)], axis=-1) \n",
    "\n",
    "    return tf.cast(pos_encoding, dtype=tf.float32)"
   ]
  },
  {
   "cell_type": "code",
   "execution_count": 21,
   "id": "5e9cbc1c-3bb2-492b-947d-292d8acc15c8",
   "metadata": {},
   "outputs": [],
   "source": [
    "class PositionalEmbedding(tf.keras.layers.Layer):\n",
    "    def __init__(self, vocab_size, d_model):\n",
    "        super().__init__()\n",
    "        self.d_model = d_model\n",
    "        self.embedding = tf.keras.layers.Embedding(vocab_size, d_model, mask_zero=True) \n",
    "        self.pos_encoding = positional_encoding(length=2048, depth=d_model)\n",
    "\n",
    "    def compute_mask(self, *args, **kwargs):\n",
    "        return self.embedding.compute_mask(*args, **kwargs)\n",
    "\n",
    "    def call(self, x):\n",
    "        length = tf.shape(x)[1]\n",
    "        x = self.embedding(x)\n",
    "        x *= tf.math.sqrt(tf.cast(self.d_model, tf.float32)) # This factor sets the relative scale of the embedding and positonal_encoding.\n",
    "        x = x + self.pos_encoding[tf.newaxis, :length, :]\n",
    "        return x"
   ]
  },
  {
   "cell_type": "markdown",
   "id": "84f6b905-61c5-4cec-bcb3-01af7a6f6871",
   "metadata": {},
   "source": [
    "實際畫一下，感受position經過encoding出來是什麼東西。以下模擬一個長2048個token的句子，每一個token由$d_\\text{model}=512$維的向量所編碼。"
   ]
  },
  {
   "cell_type": "code",
   "execution_count": 22,
   "id": "1d36f92c-ad71-4f4e-8271-5dd41caca07e",
   "metadata": {},
   "outputs": [
    {
     "name": "stdout",
     "output_type": "stream",
     "text": [
      "(2048, 512)\n"
     ]
    },
    {
     "data": {
      "image/png": "[encoded data removed]",
      "text/plain": [
       "<Figure size 640x480 with 2 Axes>"
      ]
     },
     "metadata": {},
     "output_type": "display_data"
    }
   ],
   "source": [
    "pos_encoding = positional_encoding(length=2048, depth=512)\n",
    "print(pos_encoding.shape)\n",
    "plt.pcolormesh(pos_encoding.numpy().T, cmap='RdBu')\n",
    "plt.ylabel('Depth')\n",
    "plt.xlabel('Position')\n",
    "plt.colorbar()\n",
    "plt.show()"
   ]
  },
  {
   "cell_type": "markdown",
   "id": "437b62de-e6df-48b0-9da2-6a4831da5e59",
   "metadata": {},
   "source": [
    "取出第1000個token來看看他的positional embedding的圖形（由第一個分量畫到最後一個分量）。"
   ]
  },
  {
   "cell_type": "code",
   "execution_count": 23,
   "id": "e98a134f-552a-4be9-97b5-2a174a525124",
   "metadata": {},
   "outputs": [
    {
     "data": {
      "text/plain": [
       "(0.0, 1.0)"
      ]
     },
     "execution_count": 23,
     "metadata": {},
     "output_type": "execute_result"
    },
    {
     "data": {
      "image/png": "[encoded data removed]",
      "text/plain": [
       "<Figure size 640x480 with 2 Axes>"
      ]
     },
     "metadata": {},
     "output_type": "display_data"
    }
   ],
   "source": [
    "pos_encoding/=tf.norm(pos_encoding, axis=1, keepdims=True)\n",
    "p = pos_encoding[1000]\n",
    "dots = tf.einsum('pd,d -> p', pos_encoding, p)\n",
    "plt.subplot(2,1,1)\n",
    "plt.plot(dots)\n",
    "plt.ylim([0,1])\n",
    "plt.plot([950, 950, float('nan'), 1050, 1050],\n",
    "         [0,1,float('nan'),0,1], color='k', label='Zoom')\n",
    "plt.legend()\n",
    "plt.subplot(2,1,2)\n",
    "plt.plot(dots)\n",
    "plt.xlim([950, 1050])\n",
    "plt.ylim([0,1])"
   ]
  },
  {
   "cell_type": "markdown",
   "id": "9c202837",
   "metadata": {},
   "source": [
    "## 3. Encoder的建立\n",
    "每一個Encoder都可以有很多個Layer，因此我們的Encoder在設計的時候也要能夠讓使用者自行決定層數。一般而言會把層數設在6，12，18...，不過資料不夠多的時候可以適當縮小之。"
   ]
  },
  {
   "cell_type": "code",
   "execution_count": 24,
   "id": "19afd702-df00-41ee-90d8-b8f14a9ff7d0",
   "metadata": {},
   "outputs": [],
   "source": [
    "class Encoder(tf.keras.layers.Layer):\n",
    "    def __init__(self, *, num_layers, d_model, num_heads, dff, vocab_size, dropout_rate=0.1):\n",
    "        super().__init__()\n",
    "        ''' args:\n",
    "            num_layers: How many layers should this model have\n",
    "            d_model: The dimension of the output embedding\n",
    "            num_heads: number of rates\n",
    "            dff: The number of units in the FCNs of each layer\n",
    "            vocab_size: The dimension of the embedding of each input instance\n",
    "            dropout_rate: The dropout rate of each dropout layer in the model\n",
    "        '''\n",
    "\n",
    "        self.d_model = d_model\n",
    "        self.num_layers = num_layers\n",
    "        self.pos_embedding = PositionalEmbedding(vocab_size=vocab_size, d_model=d_model)\n",
    "        self.enc_layers = [EncoderLayer(d_model=d_model,\n",
    "                                        num_heads=num_heads,\n",
    "                                        dff=dff,\n",
    "                                        dropout_rate=dropout_rate)\n",
    "                           for _ in range(num_layers)]\n",
    "        self.dropout = tf.keras.layers.Dropout(dropout_rate)\n",
    "\n",
    "    def call(self, x):\n",
    "        ''' args:\n",
    "            x: token-IDs. Shape: (batch, seq_len)\n",
    "        '''\n",
    "        x = self.pos_embedding(x)  # Add positional encoding. Shape `(batch_size, seq_len, d_model)`.\n",
    "        x = self.dropout(x) # Add dropout.\n",
    "        for i in range(self.num_layers): # Add layers\n",
    "            x = self.enc_layers[i](x)\n",
    "\n",
    "        return x  # Shape `(batch_size, seq_len, d_model)`."
   ]
  },
  {
   "cell_type": "markdown",
   "id": "de076a4a-e33c-4eed-904c-2b28c6c4b1cb",
   "metadata": {},
   "source": [
    "把模型建立起來。"
   ]
  },
  {
   "cell_type": "code",
   "execution_count": 25,
   "id": "1496933d-5b84-4e07-b28e-b0c4d99e440d",
   "metadata": {},
   "outputs": [],
   "source": [
    "# Instantiate the encoder.\n",
    "sample_encoder = Encoder(num_layers=4,\n",
    "                         d_model=512,\n",
    "                         num_heads=8,\n",
    "                         dff=128,\n",
    "                         vocab_size=10)"
   ]
  },
  {
   "cell_type": "markdown",
   "id": "1ce58193-e74f-4d9c-977c-6c148bf372cc",
   "metadata": {},
   "source": [
    "這裡因為只丟一個範例進去，維度先不包含batch_size。等到要train的時候會在對維度做處理。我們建立的這個模型只能吃1D的input，因此如果是圖片等等的，就只能乖乖把它flatten再餵進去了。"
   ]
  },
  {
   "cell_type": "code",
   "execution_count": 26,
   "id": "11d6f087-8ad0-49ea-bd67-abea150c1aaa",
   "metadata": {},
   "outputs": [
    {
     "name": "stdout",
     "output_type": "stream",
     "text": [
      "(10, 512, 512)\n"
     ]
    }
   ],
   "source": [
    "Q = tf.random.uniform((10, 512))  # (batch_size, encoder_sequence, d_model)\n",
    "Q_encoder_output = sample_encoder(Q, training=False)\n",
    "print(Q_encoder_output.shape)  # Shape `(batch_size, input_seq_len, d_model)`."
   ]
  },
  {
   "cell_type": "markdown",
   "id": "683244c4",
   "metadata": {},
   "source": [
    "# 三. Transformer的Decoder"
   ]
  },
  {
   "cell_type": "markdown",
   "id": "cb1b3257-d444-41a3-934d-30c00797ca0f",
   "metadata": {},
   "source": [
    "## 1. Decoder Block"
   ]
  },
  {
   "cell_type": "markdown",
   "id": "9faaba37-9444-4eb5-9802-64fb6525021d",
   "metadata": {},
   "source": [
    "![jupyter](./picture/decoder_block.png)"
   ]
  },
  {
   "cell_type": "markdown",
   "id": "f349b558-4d4f-4b36-a5c1-019df0db8178",
   "metadata": {},
   "source": [
    "Decoder block由三個sublayer組成。然而，其中的Add Norm，Feed forward和residual我們都已經實作過了。不過，Decoder的multi-head attention會和encoder有些許不同。如同encoder，由下到上，decoder layer可分為三個sublayer。\n",
    "1. The causal self-attention layer\n",
    "2. Cross attention layer\n",
    "3. Feed forward layer: 跟encoder一樣"
   ]
  },
  {
   "cell_type": "markdown",
   "id": "714aa2ce-69b8-4689-b4d2-e4e14ed58690",
   "metadata": {},
   "source": [
    "### (1) The causal self-attention layer\n",
    "最底下的Masked Multi-Head Attention又稱為causal self-attention layer。其物理意義為我們希望某一位置（時刻）的output只與其之前的位置（時刻）的輸入有關。就好比訊號與系統中的causal system。這麼做的好處有三：\n",
    "1. 訓練上更有效率：因為只需考慮該位置之前的input\n",
    "2. 該位置的output可以供下一個位置的output做使用"
   ]
  },
  {
   "cell_type": "markdown",
   "id": "54306c3f-54ed-491a-8053-9840ef894bae",
   "metadata": {},
   "source": [
    "![jupyter](./picture/causalattention.png)"
   ]
  },
  {
   "cell_type": "code",
   "execution_count": 27,
   "id": "679aa2f5-6ef7-40f4-a298-e764febd0519",
   "metadata": {},
   "outputs": [],
   "source": [
    "class CausalSelfAttention(BaseAttention):\n",
    "    def call(self, x):\n",
    "        attn_output = self.mha(query=x, value=x, key=x, use_causal_mask = True)\n",
    "        x = self.add([x, attn_output])\n",
    "        x = self.layernorm(x)\n",
    "        return x"
   ]
  },
  {
   "cell_type": "markdown",
   "id": "5f7013e2-3278-4abe-acd5-a45355db3f2a",
   "metadata": {},
   "source": [
    "### (2) Cross Attention Layer\n",
    "Decoder layer中間的multi-head attention又稱為cross attention。它就是普通的multi-head attention，不過它以encoder的output為queue和key，並以causal self-attention layer的output為value。"
   ]
  },
  {
   "cell_type": "code",
   "execution_count": 28,
   "id": "6dd339f4-51c8-4e82-8bb9-a5364eaf6782",
   "metadata": {},
   "outputs": [],
   "source": [
    "class CrossAttention(BaseAttention):\n",
    "    def call(self, x, context):\n",
    "        ''' args:\n",
    "            x: output of causal self attention layer\n",
    "            context: output of encoder\n",
    "        '''\n",
    "        attn_output, attn_scores = self.mha(query=x, key=context, value=context, return_attention_scores=True)\n",
    "        self.last_attn_scores = attn_scores # Cache the attention scores for plotting later.\n",
    "        x = self.add([x, attn_output])\n",
    "        x = self.layernorm(x)\n",
    "        return x"
   ]
  },
  {
   "cell_type": "markdown",
   "id": "4b2b692d-2e0e-4afc-8513-7f571f490c06",
   "metadata": {},
   "source": [
    "### (3) Decoder Layer的架設\n",
    "按照圖片將`CausalSelfAttention`,`CrossAttention`,`FeedForward`串起來，並別忘了residual的部分。"
   ]
  },
  {
   "cell_type": "code",
   "execution_count": 29,
   "id": "0fd86014-822b-4d79-b40d-839f57093e4a",
   "metadata": {},
   "outputs": [],
   "source": [
    "class DecoderLayer(tf.keras.layers.Layer):\n",
    "    def __init__(self, *, d_model, num_heads, dff, dropout_rate=0.1):\n",
    "        super(DecoderLayer, self).__init__()\n",
    "        ''' args:\n",
    "            d_model: The dimension of the output embedding\n",
    "            num_heads: number of rates\n",
    "            dff: The number of units in the FCNs of each layer\n",
    "            dropout_rate: The dropout rate of each dropout layer in the model\n",
    "        '''\n",
    "        self.causal_self_attention = CausalSelfAttention(num_heads=num_heads,\n",
    "                                                         key_dim=d_model,\n",
    "                                                         dropout=dropout_rate)\n",
    "        self.cross_attention = CrossAttention(num_heads=num_heads,\n",
    "                                              key_dim=d_model,\n",
    "                                              dropout=dropout_rate)\n",
    "        self.ffn = FeedForward(d_model, dff)\n",
    "\n",
    "    def call(self, x, context):\n",
    "        x = self.causal_self_attention(x=x)\n",
    "        x = self.cross_attention(x=x, context=context)\n",
    "\n",
    "        # Cache the last attention scores for plotting later\n",
    "        self.last_attn_scores = self.cross_attention.last_attn_scores\n",
    "\n",
    "        x = self.ffn(x)  # Shape `(batch_size, seq_len, d_model)`.\n",
    "        return x"
   ]
  },
  {
   "cell_type": "markdown",
   "id": "a3b4ee6f-b43f-4692-bced-c7d6903b0a9e",
   "metadata": {},
   "source": [
    "隨機產生兩個tensor丟進去檢查看看。"
   ]
  },
  {
   "cell_type": "code",
   "execution_count": 30,
   "id": "2725b288-d7aa-4c6c-a233-cd644ec1ae97",
   "metadata": {},
   "outputs": [
    {
     "name": "stdout",
     "output_type": "stream",
     "text": [
      "(1, 10, 512)\n"
     ]
    }
   ],
   "source": [
    "X = tf.random.uniform((1, 10, 512))  # (batch_size, encoder_sequence, d_model)\n",
    "C = tf.random.uniform((1, 10, 512))  # (batch_size, encoder_sequence, d_model)\n",
    "sample_decoder_layer = DecoderLayer(d_model=512, num_heads=8, dff=2048)\n",
    "sample_decoder_layer_output = sample_decoder_layer(x=X, context=C)\n",
    "print(sample_decoder_layer_output.shape)  # `(batch_size, seq_len, d_model)`"
   ]
  },
  {
   "cell_type": "markdown",
   "id": "3514660d-744d-42ae-92bf-d999c5b6fa11",
   "metadata": {},
   "source": [
    "## 2. Decoder的架設"
   ]
  },
  {
   "cell_type": "markdown",
   "id": "179e720d-d676-488e-99d8-56384789a926",
   "metadata": {},
   "source": [
    "![jupyter](./picture/decoder.png)"
   ]
  },
  {
   "cell_type": "markdown",
   "id": "79ed7ec2-844b-454c-8e1b-07827400c06c",
   "metadata": {},
   "source": [
    "Decoder的結構為：\n",
    "1. input會先經過一個embedding（稱為output embedding）\n",
    "2. Positional Encoding\n",
    "3. 數個decoder layer疊起來\n",
    "直接按照圖片將其串起來。"
   ]
  },
  {
   "cell_type": "code",
   "execution_count": 31,
   "id": "6d868de0-10c4-489e-b610-d4118cd74d74",
   "metadata": {},
   "outputs": [],
   "source": [
    "class Decoder(tf.keras.layers.Layer):\n",
    "    def __init__(self, *, num_layers, d_model, num_heads, dff, vocab_size, dropout_rate=0.1):\n",
    "        super(Decoder, self).__init__()\n",
    "        ''' args:\n",
    "            num_layers: Layers of decoder\n",
    "            d_model: The dimension of the output embedding\n",
    "            num_heads: number of rates\n",
    "            dff: The number of units in the FCNs of each layer\n",
    "            dropout_rate: The dropout rate of each dropout layer in the model\n",
    "            vocab_size: The length (number of tokens) of each sentence (or input)\n",
    "        '''\n",
    "        self.d_model = d_model\n",
    "        self.num_layers = num_layers\n",
    "        self.dropout = tf.keras.layers.Dropout(dropout_rate)\n",
    "\n",
    "        self.pos_embedding = PositionalEmbedding(vocab_size=vocab_size, d_model=d_model)\n",
    "        self.dec_layers = [DecoderLayer(d_model=d_model, num_heads=num_heads, dff=dff, dropout_rate=dropout_rate)\n",
    "                           for _ in range(num_layers)]\n",
    "        self.last_attn_scores = None\n",
    "\n",
    "    def call(self, x, context):\n",
    "        ''' args:\n",
    "            x: token-IDs, shape (batch, target_seq_len)\n",
    "            context: output from the encoder\n",
    "        '''\n",
    "        x = self.pos_embedding(x)  # (batch_size, target_seq_len, d_model)\n",
    "        x = self.dropout(x)\n",
    "        for i in range(self.num_layers):\n",
    "            x  = self.dec_layers[i](x, context)\n",
    "        self.last_attn_scores = self.dec_layers[-1].last_attn_scores\n",
    "        \n",
    "        return x  # The shape of x is (batch_size, target_seq_len, d_model)."
   ]
  },
  {
   "cell_type": "code",
   "execution_count": 32,
   "id": "5955d7ca-cc37-4883-ba7a-6f3ddfa5acd5",
   "metadata": {},
   "outputs": [],
   "source": [
    "# Instantiate the decoder.\n",
    "sample_decoder = Decoder(num_layers=4,\n",
    "                         d_model=512,\n",
    "                         num_heads=8,\n",
    "                         dff=128,\n",
    "                         vocab_size=10)"
   ]
  },
  {
   "cell_type": "markdown",
   "id": "20359920-e294-4bd8-8b99-47f153981f42",
   "metadata": {},
   "source": [
    "這裡因為只丟一個tensor $\\mathbf{X}$當成範例進去，維度先不包含batch_size。等到要train的時候會在對維度做處理。另外encoder的output的維度會是$\\text{vocab\\_size}\\times d_\\text{model}\\times d_\\text{model}$。"
   ]
  },
  {
   "cell_type": "code",
   "execution_count": 33,
   "id": "39b4fad3-7776-4b2b-ab5e-f9d0c6c9263e",
   "metadata": {},
   "outputs": [
    {
     "name": "stdout",
     "output_type": "stream",
     "text": [
      "(10, 512, 512)\n"
     ]
    },
    {
     "data": {
      "text/plain": [
       "TensorShape([10, 8, 512, 512])"
      ]
     },
     "execution_count": 33,
     "metadata": {},
     "output_type": "execute_result"
    }
   ],
   "source": [
    "X = tf.random.uniform((10, 512))  # (encoder_sequence, d_model)\n",
    "C = tf.random.uniform((10, 512, 512))  # (vocab_size, d_model, d_model)\n",
    "output = sample_decoder(x=X, context=C)\n",
    "print(output.shape)\n",
    "sample_decoder.last_attn_scores.shape  # (batch, heads, target_seq, input_seq)"
   ]
  },
  {
   "cell_type": "markdown",
   "id": "813eb6c4",
   "metadata": {},
   "source": [
    "# 四. Transformer的搭建"
   ]
  },
  {
   "cell_type": "markdown",
   "id": "4364595b-7b1a-46f7-beab-3952d26a50b4",
   "metadata": {},
   "source": [
    "![jupyter](./picture/transformer.png)"
   ]
  },
  {
   "cell_type": "markdown",
   "id": "6cc4f22d-0ccf-4fcc-9828-7dfc5d40d369",
   "metadata": {},
   "source": [
    "至此我們可以搭建整個transformer了。注意到藍色框框內的東西我們已經做好了，因此實作的時候直接調用前面的定義的class。別忘了最後還有一個dense layer跟softmax。"
   ]
  },
  {
   "cell_type": "markdown",
   "id": "8d57e0eb-0c63-4615-b3e1-57e48fbdd9fb",
   "metadata": {},
   "source": [
    "## 1. 模型的整體架構"
   ]
  },
  {
   "cell_type": "code",
   "execution_count": 34,
   "id": "3f2061a0-1e4d-4e52-b8a8-6e7f241db9bb",
   "metadata": {},
   "outputs": [],
   "source": [
    "class Transformer(tf.keras.Model):\n",
    "    def __init__(self, *, num_layers, d_model, num_heads, dff, input_vocab_size, target_vocab_size, dropout_rate=0.1):\n",
    "        super().__init__()\n",
    "        ''' args:\n",
    "            num_layers: Layers of decoder\n",
    "            d_model: The dimension of the output embedding\n",
    "            num_heads: number of rates\n",
    "            dff: The number of units in the FCNs of each layer\n",
    "            dropout_rate: The dropout rate of each dropout layer in the model\n",
    "            input_vocab_size: The length (number of tokens) of each input (sentence)\n",
    "            target_vocab_size: The length (number of tokens) of each output (sentence)\n",
    "        '''\n",
    "        self.encoder = Encoder(num_layers=num_layers, \n",
    "                               d_model=d_model,\n",
    "                               num_heads=num_heads, \n",
    "                               dff=dff,\n",
    "                               vocab_size=input_vocab_size,\n",
    "                               dropout_rate=dropout_rate)\n",
    "        self.decoder = Decoder(num_layers=num_layers, \n",
    "                               d_model=d_model,\n",
    "                               num_heads=num_heads, \n",
    "                               dff=dff,\n",
    "                               vocab_size=target_vocab_size,\n",
    "                               dropout_rate=dropout_rate)\n",
    "        self.final_layer = tf.keras.layers.Dense(target_vocab_size)\n",
    "\n",
    "    def call(self, inputs):\n",
    "        ''' args:\n",
    "            input: To use a Keras model with `.fit` you must pass all your inputs in the first argument.\n",
    "        '''\n",
    "        \n",
    "        context, x  = inputs\n",
    "        context = self.encoder(context)  # (batch_size, context_len, d_model)\n",
    "        x = self.decoder(x, context)  # (batch_size, target_len, d_model)\n",
    "\n",
    "        # Final linear layer output.\n",
    "        logits = self.final_layer(x)  # (batch_size, target_len, target_vocab_size)\n",
    "\n",
    "        try:\n",
    "            del logits._keras_mask # Drop the keras mask, so it doesn't scale the losses/metrics.\n",
    "        except AttributeError:\n",
    "            pass\n",
    "            \n",
    "        return logits # Return the final output and the attention weights."
   ]
  },
  {
   "cell_type": "markdown",
   "id": "b0598e2b-b57e-4779-a22e-5001296ecaec",
   "metadata": {},
   "source": [
    "我們來搭建一個encoder和decoder都各四層的transformer。它的dataflow如下圖所示："
   ]
  },
  {
   "cell_type": "markdown",
   "id": "1bf451a5-96a1-424d-9a67-ab5f4367bcee",
   "metadata": {},
   "source": [
    "![jupyter](./picture/Transformer-4layer-compact.png)"
   ]
  },
  {
   "cell_type": "code",
   "execution_count": 35,
   "id": "bbab55ef-4329-4880-9723-93fa7fc1ac79",
   "metadata": {},
   "outputs": [],
   "source": [
    "num_layers = 4\n",
    "d_model = 128\n",
    "dff = 512\n",
    "num_heads = 8\n",
    "dropout_rate = 0.1"
   ]
  },
  {
   "cell_type": "code",
   "execution_count": 36,
   "id": "7bf34707-4b88-4d46-9453-25bf5cd70dd2",
   "metadata": {},
   "outputs": [],
   "source": [
    "transformer = Transformer(num_layers=num_layers,\n",
    "                          d_model=d_model,\n",
    "                          num_heads=num_heads,\n",
    "                          dff=dff,\n",
    "                          input_vocab_size=10,\n",
    "                          target_vocab_size=10,\n",
    "                          dropout_rate=dropout_rate)"
   ]
  },
  {
   "cell_type": "markdown",
   "id": "c8fab7c2-60fd-48d7-9e89-6efd651f3159",
   "metadata": {},
   "source": [
    "這裡因為只丟一個tensor $\\mathbf{X}$當成範例進去，維度先不包含batch_size。等到要train的時候會在對維度做處理。另外encoder的output的維度會是$\\text{vocab\\_size}\\times d_\\text{model}\\times d_\\text{model}$。"
   ]
  },
  {
   "cell_type": "code",
   "execution_count": 37,
   "id": "79adf22c-bf8e-4de4-9edb-93675d8683af",
   "metadata": {},
   "outputs": [
    {
     "name": "stdout",
     "output_type": "stream",
     "text": [
      "(10, 512, 10)\n"
     ]
    }
   ],
   "source": [
    "X = tf.random.uniform((10, 512))  # (encoder_sequence, d_model)\n",
    "Y = tf.random.uniform((10, 512)) \n",
    "output = transformer((X, Y))\n",
    "print(output.shape)"
   ]
  },
  {
   "cell_type": "code",
   "execution_count": 38,
   "id": "b9b1db60-8895-451c-b58e-eda7360490ab",
   "metadata": {},
   "outputs": [
    {
     "name": "stdout",
     "output_type": "stream",
     "text": [
      "(10, 8, 512, 512)\n"
     ]
    }
   ],
   "source": [
    "attn_scores = transformer.decoder.dec_layers[-1].last_attn_scores\n",
    "print(attn_scores.shape)  # (batch, heads, target_seq, input_seq)"
   ]
  },
  {
   "cell_type": "markdown",
   "id": "597d8f23-e06c-4b58-96b6-b0c5e0a6cc21",
   "metadata": {},
   "source": [
    "最後來看看這個transformer的一些資訊："
   ]
  },
  {
   "cell_type": "code",
   "execution_count": 39,
   "id": "7cb6b276-a59b-433c-a02b-16da171fb3fc",
   "metadata": {},
   "outputs": [
    {
     "name": "stdout",
     "output_type": "stream",
     "text": [
      "Model: \"transformer\"\n",
      "_________________________________________________________________\n",
      " Layer (type)                Output Shape              Param #   \n",
      "=================================================================\n",
      " encoder_1 (Encoder)         multiple                  2640128   \n",
      "                                                                 \n",
      " decoder_1 (Decoder)         multiple                  4751104   \n",
      "                                                                 \n",
      " dense_44 (Dense)            multiple                  1290      \n",
      "                                                                 \n",
      "=================================================================\n",
      "Total params: 7,392,522\n",
      "Trainable params: 7,392,522\n",
      "Non-trainable params: 0\n",
      "_________________________________________________________________\n"
     ]
    }
   ],
   "source": [
    "transformer.summary()"
   ]
  },
  {
   "cell_type": "markdown",
   "id": "83ba7df0-3388-48e4-bb3e-db01fc7077e1",
   "metadata": {},
   "source": [
    "## 2. Optimizer與Learning Rate\n",
    "原本的paper推薦使用Adam搭配以下的learning rate公式：\n",
    "\n",
    "$$\\Large{\\text{learning rate} = d_\\text{model}^{-0.5} \\times \\min(\\text{step\\_num}^{-0.5}, \\text{step\\_num} \\cdot \\text{warmup\\_steps}^{-1.5})}$$\n",
    "\n",
    "learning rate與epoch次數有關。在前`warmup_steps`個epoch中learning rate會線性上升，之後下降。"
   ]
  },
  {
   "cell_type": "code",
   "execution_count": 40,
   "id": "e0b68ad0-789d-4bcf-abc4-793952b42a47",
   "metadata": {},
   "outputs": [],
   "source": [
    "class CustomSchedule(tf.keras.optimizers.schedules.LearningRateSchedule):\n",
    "    def __init__(self, d_model, warmup_steps=4000):\n",
    "        super().__init__()\n",
    "        self.d_model = d_model\n",
    "        self.d_model = tf.cast(self.d_model, tf.float32)\n",
    "        self.warmup_steps = warmup_steps\n",
    "\n",
    "    def __call__(self, step):\n",
    "        step = tf.cast(step, dtype=tf.float32)\n",
    "        arg1 = tf.math.rsqrt(step)\n",
    "        arg2 = step * (self.warmup_steps ** -1.5)\n",
    "        return tf.math.rsqrt(self.d_model) * tf.math.minimum(arg1, arg2)"
   ]
  },
  {
   "cell_type": "markdown",
   "id": "5dc1a4e0-8e48-4ca6-9eda-489bf2825f7d",
   "metadata": {},
   "source": [
    "畫畫看learning Rate與epoch之間的關係圖。"
   ]
  },
  {
   "cell_type": "code",
   "execution_count": 41,
   "id": "973af58f-a425-46ed-8fae-0b597af4709e",
   "metadata": {},
   "outputs": [
    {
     "data": {
      "text/plain": [
       "Text(0.5, 0, 'Train Step')"
      ]
     },
     "execution_count": 41,
     "metadata": {},
     "output_type": "execute_result"
    },
    {
     "data": {
      "image/png": "[encoded data removed]",
      "text/plain": [
       "<Figure size 640x480 with 1 Axes>"
      ]
     },
     "metadata": {},
     "output_type": "display_data"
    }
   ],
   "source": [
    "learning_rate = CustomSchedule(d_model)\n",
    "plt.plot(learning_rate(tf.range(40000, dtype=tf.float32)))\n",
    "plt.ylabel('Learning Rate')\n",
    "plt.xlabel('Train Step')"
   ]
  },
  {
   "cell_type": "markdown",
   "id": "0d4b5e43-d885-4449-b351-e95049a46f09",
   "metadata": {},
   "source": [
    "此處取Adam的$\\beta_1=0.9,\\beta_2=0.98,\\epsilon=10^{-9}$。"
   ]
  },
  {
   "cell_type": "code",
   "execution_count": 42,
   "id": "3bb48ebb-56d8-4e7f-a099-5477dabb2e4e",
   "metadata": {},
   "outputs": [],
   "source": [
    "optimizer = tf.keras.optimizers.Adam(learning_rate, beta_1=0.9, beta_2=0.98, epsilon=1e-9)"
   ]
  },
  {
   "cell_type": "markdown",
   "id": "5843c818-8123-4413-96bb-06a4e3ec3a67",
   "metadata": {},
   "source": [
    "## 3. Loss與Metric\n",
    "訓練的時候的target sequences可能有經過padding，因此需要定義一個用來算loss和accuracy的mask。否則會看到一大堆padding所造成的錯誤率。此處的loss function使用cross-entropy (`tf.keras.losses.SparseCategoricalCrossentropy`) 來實作"
   ]
  },
  {
   "cell_type": "code",
   "execution_count": 43,
   "id": "bef1c067-73ce-4f5d-9530-91ae531729a5",
   "metadata": {},
   "outputs": [],
   "source": [
    "def masked_loss(label, pred):\n",
    "    mask = (label != 0)\n",
    "    loss_object = tf.keras.losses.SparseCategoricalCrossentropy(from_logits=True, reduction='none')\n",
    "    loss = loss_object(label, pred)\n",
    "    mask = tf.cast(mask, dtype=loss.dtype)\n",
    "    loss *= mask\n",
    "    loss = tf.reduce_sum(loss)/tf.reduce_sum(mask)\n",
    "    return loss"
   ]
  },
  {
   "cell_type": "code",
   "execution_count": 44,
   "id": "624e6007-3684-4349-bf46-c987f5604985",
   "metadata": {},
   "outputs": [],
   "source": [
    "def masked_accuracy(label, pred):\n",
    "    pred = tf.argmax(pred, axis=2)\n",
    "    label = tf.cast(label, pred.dtype)\n",
    "    match = label == pred\n",
    "\n",
    "    mask = label != 0\n",
    "\n",
    "    match = match & mask\n",
    "\n",
    "    match = tf.cast(match, dtype=tf.float32)\n",
    "    mask = tf.cast(mask, dtype=tf.float32)\n",
    "    return tf.reduce_sum(match)/tf.reduce_sum(mask)"
   ]
  },
  {
   "cell_type": "markdown",
   "id": "48cfb00f-4192-4172-a303-40739263318a",
   "metadata": {},
   "source": [
    "# 五. Transformer的訓練－以機器翻譯為例\n",
    "來做一個把葡萄牙文翻成英文的機器"
   ]
  },
  {
   "cell_type": "markdown",
   "id": "7e545fe0-fedc-4405-a99d-575b066f301f",
   "metadata": {},
   "source": [
    "## 1. Dataset的準備\n",
    "以下都是一些dirty work。這裡做的事情跟transformer一點關係都沒有。"
   ]
  },
  {
   "cell_type": "markdown",
   "id": "ecd3c6d7-8300-462e-b61b-96d7c59e046d",
   "metadata": {},
   "source": [
    "### (1) 下載葡萄牙語-英語翻譯資料集\n",
    "會存成一個資料夾。"
   ]
  },
  {
   "cell_type": "code",
   "execution_count": 45,
   "id": "e39f667a-3513-49e8-8c0f-49f83e5f25c6",
   "metadata": {},
   "outputs": [
    {
     "name": "stderr",
     "output_type": "stream",
     "text": [
      "2024-07-23 23:10:12.293958: W tensorflow/core/platform/cloud/google_auth_provider.cc:184] All attempts to get a Google authentication bearer token failed, returning an empty token. Retrieving token from files failed with \"NOT_FOUND: Could not locate the credentials file.\". Retrieving token from GCE failed with \"FAILED_PRECONDITION: Error executing an HTTP request: libcurl code 6 meaning 'Couldn't resolve host name', error details: Could not resolve host: metadata\".\n"
     ]
    },
    {
     "name": "stdout",
     "output_type": "stream",
     "text": [
      "\u001b[1mDownloading and preparing dataset 124.94 MiB (download: 124.94 MiB, generated: Unknown size, total: 124.94 MiB) to /home/benny/tensorflow_datasets/ted_hrlr_translate/pt_to_en/1.0.0...\u001b[0m\n"
     ]
    },
    {
     "data": {
      "application/vnd.jupyter.widget-view+json": {
       "model_id": "0076c4cf22e4439184452c9a37b71584",
       "version_major": 2,
       "version_minor": 0
      },
      "text/plain": [
       "Dl Completed...: 0 url [00:00, ? url/s]"
      ]
     },
     "metadata": {},
     "output_type": "display_data"
    },
    {
     "data": {
      "application/vnd.jupyter.widget-view+json": {
       "model_id": "867607e26d9645689773e37d946582c8",
       "version_major": 2,
       "version_minor": 0
      },
      "text/plain": [
       "Dl Size...: 0 MiB [00:00, ? MiB/s]"
      ]
     },
     "metadata": {},
     "output_type": "display_data"
    },
    {
     "data": {
      "application/vnd.jupyter.widget-view+json": {
       "model_id": "90f18175758149829bf04b0a8a0dcbd0",
       "version_major": 2,
       "version_minor": 0
      },
      "text/plain": [
       "Extraction completed...: 0 file [00:00, ? file/s]"
      ]
     },
     "metadata": {},
     "output_type": "display_data"
    },
    {
     "data": {
      "application/vnd.jupyter.widget-view+json": {
       "model_id": "",
       "version_major": 2,
       "version_minor": 0
      },
      "text/plain": [
       "Generating splits...:   0%|          | 0/3 [00:00<?, ? splits/s]"
      ]
     },
     "metadata": {},
     "output_type": "display_data"
    },
    {
     "data": {
      "application/vnd.jupyter.widget-view+json": {
       "model_id": "",
       "version_major": 2,
       "version_minor": 0
      },
      "text/plain": [
       "Generating train examples...:   0%|          | 0/51785 [00:00<?, ? examples/s]"
      ]
     },
     "metadata": {},
     "output_type": "display_data"
    },
    {
     "data": {
      "application/vnd.jupyter.widget-view+json": {
       "model_id": "",
       "version_major": 2,
       "version_minor": 0
      },
      "text/plain": [
       "Shuffling /home/benny/tensorflow_datasets/ted_hrlr_translate/pt_to_en/1.0.0.incomplete062POV/ted_hrlr_translat…"
      ]
     },
     "metadata": {},
     "output_type": "display_data"
    },
    {
     "data": {
      "application/vnd.jupyter.widget-view+json": {
       "model_id": "",
       "version_major": 2,
       "version_minor": 0
      },
      "text/plain": [
       "Generating validation examples...:   0%|          | 0/1193 [00:00<?, ? examples/s]"
      ]
     },
     "metadata": {},
     "output_type": "display_data"
    },
    {
     "data": {
      "application/vnd.jupyter.widget-view+json": {
       "model_id": "",
       "version_major": 2,
       "version_minor": 0
      },
      "text/plain": [
       "Shuffling /home/benny/tensorflow_datasets/ted_hrlr_translate/pt_to_en/1.0.0.incomplete062POV/ted_hrlr_translat…"
      ]
     },
     "metadata": {},
     "output_type": "display_data"
    },
    {
     "data": {
      "application/vnd.jupyter.widget-view+json": {
       "model_id": "",
       "version_major": 2,
       "version_minor": 0
      },
      "text/plain": [
       "Generating test examples...:   0%|          | 0/1803 [00:00<?, ? examples/s]"
      ]
     },
     "metadata": {},
     "output_type": "display_data"
    },
    {
     "data": {
      "application/vnd.jupyter.widget-view+json": {
       "model_id": "",
       "version_major": 2,
       "version_minor": 0
      },
      "text/plain": [
       "Shuffling /home/benny/tensorflow_datasets/ted_hrlr_translate/pt_to_en/1.0.0.incomplete062POV/ted_hrlr_translat…"
      ]
     },
     "metadata": {},
     "output_type": "display_data"
    },
    {
     "name": "stdout",
     "output_type": "stream",
     "text": [
      "\u001b[1mDataset ted_hrlr_translate downloaded and prepared to /home/benny/tensorflow_datasets/ted_hrlr_translate/pt_to_en/1.0.0. Subsequent calls will reuse this data.\u001b[0m\n"
     ]
    }
   ],
   "source": [
    "examples, metadata = tfds.load('ted_hrlr_translate/pt_to_en', with_info=True, as_supervised=True)\n",
    "train_examples, val_examples = examples['train'], examples['validation']"
   ]
  },
  {
   "cell_type": "markdown",
   "id": "0ddeffa6-1bcb-4dbc-a999-8af73df0f92f",
   "metadata": {},
   "source": [
    "看看裡面都有些什麼。"
   ]
  },
  {
   "cell_type": "code",
   "execution_count": 46,
   "id": "871d06d5-53f7-4364-9a7b-cdff827a8bef",
   "metadata": {},
   "outputs": [
    {
     "name": "stdout",
     "output_type": "stream",
     "text": [
      "length of training set:  51785\n",
      "length of validation set:  1193 \n",
      "\n",
      "> Examples in Portuguese:\n",
      "e quando melhoramos a procura , tiramos a única vantagem da impressão , que é a serendipidade .\n",
      "mas e se estes fatores fossem ativos ?\n",
      "mas eles não tinham a curiosidade de me testar .\n",
      "\n",
      "> Examples in English:\n",
      "and when you improve searchability , you actually take away the one advantage of print , which is serendipity .\n",
      "but what if it were active ?\n",
      "but they did n't test for curiosity .\n"
     ]
    },
    {
     "name": "stderr",
     "output_type": "stream",
     "text": [
      "2024-07-23 23:12:49.928337: W tensorflow/core/kernels/data/cache_dataset_ops.cc:856] The calling iterator did not fully read the dataset being cached. In order to avoid unexpected truncation of the dataset, the partially cached contents of the dataset  will be discarded. This can happen if you have an input pipeline similar to `dataset.cache().take(k).repeat()`. You should use `dataset.take(k).cache().repeat()` instead.\n"
     ]
    }
   ],
   "source": [
    "print(\"length of training set: \", len(train_examples))\n",
    "print(\"length of validation set: \", len(val_examples),'\\n')\n",
    "for pt_examples, en_examples in train_examples.batch(3).take(1): # Show some examples\n",
    "    print('> Examples in Portuguese:')\n",
    "    for pt in pt_examples.numpy():\n",
    "        print(pt.decode('utf-8'))\n",
    "    print()\n",
    "    print('> Examples in English:')\n",
    "    for en in en_examples.numpy():\n",
    "        print(en.decode('utf-8'))"
   ]
  },
  {
   "cell_type": "markdown",
   "id": "b314ce26",
   "metadata": {},
   "source": [
    "### (2) 用tokenizer處理資料集\n",
    "首先先下載這個dataset專用的tokenizer。"
   ]
  },
  {
   "cell_type": "code",
   "execution_count": 47,
   "id": "639e8515-6854-498e-b590-1c3d194efdde",
   "metadata": {},
   "outputs": [
    {
     "name": "stdout",
     "output_type": "stream",
     "text": [
      "Downloading data from https://storage.googleapis.com/download.tensorflow.org/models/ted_hrlr_translate_pt_en_converter.zip\n",
      "184801/184801 [==============================] - 0s 0us/step\n"
     ]
    },
    {
     "data": {
      "text/plain": [
       "'./ted_hrlr_translate_pt_en_converter.zip'"
      ]
     },
     "execution_count": 47,
     "metadata": {},
     "output_type": "execute_result"
    }
   ],
   "source": [
    "model_name = 'ted_hrlr_translate_pt_en_converter'\n",
    "tf.keras.utils.get_file(f'{model_name}.zip',\n",
    "                        f'https://storage.googleapis.com/download.tensorflow.org/models/{model_name}.zip',\n",
    "                        cache_dir='.', \n",
    "                        cache_subdir='', \n",
    "                        extract=True)"
   ]
  },
  {
   "cell_type": "markdown",
   "id": "9c440db0-65a7-4571-9862-2b8e8552e0b9",
   "metadata": {},
   "source": [
    "將模型load進來"
   ]
  },
  {
   "cell_type": "code",
   "execution_count": 48,
   "id": "7ea4ac02-e854-4fce-8bac-9b677de05e1f",
   "metadata": {},
   "outputs": [],
   "source": [
    "tokenizers = tf.saved_model.load(model_name)"
   ]
  },
  {
   "cell_type": "markdown",
   "id": "07daff11-23c0-4e63-8cab-881494d79ea5",
   "metadata": {},
   "source": [
    "稍微展示一下這個tokenizer在幹嘛。它會把單字轉成token之後再轉為token的ID，還可以把token的ID轉回文字"
   ]
  },
  {
   "cell_type": "code",
   "execution_count": 49,
   "id": "1b40cf31-110f-4b18-9d50-db6fd352b37f",
   "metadata": {},
   "outputs": [
    {
     "name": "stdout",
     "output_type": "stream",
     "text": [
      "> This is a batch of strings:\n",
      "and when you improve searchability , you actually take away the one advantage of print , which is serendipity .\n",
      "but what if it were active ?\n",
      "but they did n't test for curiosity .\n"
     ]
    }
   ],
   "source": [
    "print('> This is a batch of strings:')\n",
    "for en in en_examples.numpy():\n",
    "  print(en.decode('utf-8'))"
   ]
  },
  {
   "cell_type": "code",
   "execution_count": 50,
   "id": "dce96ec2-459d-4242-ad8e-70ca1b50ab42",
   "metadata": {},
   "outputs": [
    {
     "name": "stdout",
     "output_type": "stream",
     "text": [
      "> This is a padded-batch of token IDs:\n",
      "[2, 72, 117, 79, 1259, 1491, 2362, 13, 79, 150, 184, 311, 71, 103, 2308, 74, 2679, 13, 148, 80, 55, 4840, 1434, 2423, 540, 15, 3]\n",
      "[2, 87, 90, 107, 76, 129, 1852, 30, 3]\n",
      "[2, 87, 83, 149, 50, 9, 56, 664, 85, 2512, 15, 3]\n"
     ]
    }
   ],
   "source": [
    "encoded = tokenizers.en.tokenize(en_examples)\n",
    "\n",
    "print('> This is a padded-batch of token IDs:')\n",
    "for row in encoded.to_list():\n",
    "  print(row)"
   ]
  },
  {
   "cell_type": "code",
   "execution_count": 51,
   "id": "1bb1a80d-16e6-44af-8d80-65b1b5c0fd83",
   "metadata": {},
   "outputs": [
    {
     "name": "stdout",
     "output_type": "stream",
     "text": [
      "> This is human-readable text:\n",
      "and when you improve searchability , you actually take away the one advantage of print , which is serendipity .\n",
      "but what if it were active ?\n",
      "but they did n ' t test for curiosity .\n"
     ]
    }
   ],
   "source": [
    "round_trip = tokenizers.en.detokenize(encoded)\n",
    "\n",
    "print('> This is human-readable text:')\n",
    "for line in round_trip.numpy():\n",
    "  print(line.decode('utf-8'))"
   ]
  },
  {
   "cell_type": "markdown",
   "id": "1c93d317-0262-404b-8b68-9337d9736b0f",
   "metadata": {},
   "source": [
    "### (3) 建立訓練資料與標籤的配對\n",
    "You might have expected the `input, output`, pairs to simply be the `Portuguese, English` sequences.\n",
    "Given the Portuguese sequence, the model would try to generate the English sequence.\n",
    "\n",
    "It's possible to train a model that way. You'd need to write out the inference loop and pass the model's output back to the input.\n",
    "It's slower (time steps can't run in parallel), and a harder task to learn (the model can't get the end of a sentence right until it gets the beginning right),\n",
    "but it can give a more stable model because the model has to learn to correct its own errors during training.\n",
    "\n",
    "在訓練時，transformer的encoder將會吃以[START][END]包圍的葡萄牙文句子作為輸入，decoder吃對應的[START]+英文句子作為輸入。至於訓練的標籤將會使用英文句子+[END]。換言之，就是用文字接龍的方式來訓練。如下圖所示："
   ]
  },
  {
   "cell_type": "markdown",
   "id": "df9a8a0c-a7fc-48bd-9278-4890eebdcfe9",
   "metadata": {},
   "source": [
    "![jupyter](./picture/train.png)"
   ]
  },
  {
   "cell_type": "markdown",
   "id": "8268bbc4-a7b2-4923-acd5-90da5d01196c",
   "metadata": {},
   "source": [
    "因此我們定義一個從訓練集產生(data, label) pair的函式用以訓練。其步驟如下：\n",
    "1. 把每個句子都用tokenizer處理過一遍\n",
    "2. 對於長度超過`MAX_TOKENS`的資料，把多的部分砍掉\n",
    "3. 將英文句子左移一格產生label\n",
    "4. 由於每個tensor的形狀可能不規則（在Tensorflow中稱為`RaggedTensor`），因此用padding變成正常的`Tensor`"
   ]
  },
  {
   "cell_type": "code",
   "execution_count": 52,
   "id": "69ce874a-0323-4342-b617-1f02815bf415",
   "metadata": {},
   "outputs": [],
   "source": [
    "MAX_TOKENS=128\n",
    "def prepare_batch(pt, en):\n",
    "    pt = tokenizers.pt.tokenize(pt)      # Output is ragged.\n",
    "    pt = pt[:, :MAX_TOKENS]    # Trim to MAX_TOKENS.\n",
    "    pt = pt.to_tensor()  # Convert to 0-padded dense Tensor\n",
    "\n",
    "    en = tokenizers.en.tokenize(en)\n",
    "    en = en[:, :(MAX_TOKENS+1)]\n",
    "    en_inputs = en[:, :-1].to_tensor()  # Drop the [END] tokens\n",
    "    en_labels = en[:, 1:].to_tensor()   # Drop the [START] tokens\n",
    "\n",
    "    return (pt, en_inputs), en_labels"
   ]
  },
  {
   "cell_type": "markdown",
   "id": "8dc29a61-ef49-4166-a115-512543cf46df",
   "metadata": {},
   "source": [
    "### (4) 建立training set與validatoin set的batch"
   ]
  },
  {
   "cell_type": "markdown",
   "id": "52ba5346-46da-4a06-a695-8d834aabcc54",
   "metadata": {},
   "source": [
    "The function below converts a dataset of text examples into data of batches for training. \n",
    "\n",
    "1. It tokenizes the text, and filters out the sequences that are too long.\n",
    "   (The `batch`/`unbatch` is included because the tokenizer is much more efficient on large batches).\n",
    "2. The `cache` method ensures that that work is only executed once.\n",
    "3. Then `shuffle` and, `dense_to_ragged_batch` randomize the order and assemble batches of examples. \n",
    "4. Finally `prefetch` runs the dataset in parallel with the model to ensure that data is available when needed. See [Better performance with the `tf.data`](https://www.tensorflow.org/guide/data_performance.ipynb) for details."
   ]
  },
  {
   "cell_type": "code",
   "execution_count": 53,
   "id": "3470a87a-48db-4137-ac1c-e97ea99e4c77",
   "metadata": {},
   "outputs": [],
   "source": [
    "BUFFER_SIZE = 20000\n",
    "BATCH_SIZE = 32\n",
    "def make_batches(ds):\n",
    "    return (ds.shuffle(BUFFER_SIZE)\n",
    "              .batch(BATCH_SIZE)\n",
    "              .map(prepare_batch, tf.data.AUTOTUNE)\n",
    "              .prefetch(buffer_size=tf.data.AUTOTUNE))"
   ]
  },
  {
   "cell_type": "markdown",
   "id": "dda20a48-9303-4a17-af0c-31eba5365574",
   "metadata": {},
   "source": [
    "總算可以對整個資料集進行處理了。"
   ]
  },
  {
   "cell_type": "code",
   "execution_count": 54,
   "id": "547ae115-e1f2-44a6-8ea9-bc2cfb5dd46c",
   "metadata": {},
   "outputs": [],
   "source": [
    "# Create training and validation set batches.\n",
    "train_batches = make_batches(train_examples)\n",
    "val_batches = make_batches(val_examples)"
   ]
  },
  {
   "cell_type": "markdown",
   "id": "002fb0ee-7684-4be9-bd25-11cb0199bdec",
   "metadata": {},
   "source": [
    "取締一個batch的第一筆資料來看看是否正常生成。"
   ]
  },
  {
   "cell_type": "code",
   "execution_count": 55,
   "id": "4425db77-2c4d-4581-9792-fb73ff853249",
   "metadata": {},
   "outputs": [
    {
     "name": "stdout",
     "output_type": "stream",
     "text": [
      "(32, 120)\n",
      "(32, 126)\n",
      "(32, 126)\n"
     ]
    },
    {
     "name": "stderr",
     "output_type": "stream",
     "text": [
      "2024-07-23 23:12:51.357921: W tensorflow/core/kernels/data/cache_dataset_ops.cc:856] The calling iterator did not fully read the dataset being cached. In order to avoid unexpected truncation of the dataset, the partially cached contents of the dataset  will be discarded. This can happen if you have an input pipeline similar to `dataset.cache().take(k).repeat()`. You should use `dataset.take(k).cache().repeat()` instead.\n"
     ]
    }
   ],
   "source": [
    "for (pt, en), en_labels in train_batches.take(1):\n",
    "    break\n",
    "\n",
    "print(pt.shape) # The number of tokens of the first sentence in pt\n",
    "print(en.shape) # The number of tokens of the first sentence in en\n",
    "print(en_labels.shape) # should be the same as en.shape"
   ]
  },
  {
   "cell_type": "code",
   "execution_count": 56,
   "id": "995ad327-c6c5-4bd5-82f3-df7e9e1ddb00",
   "metadata": {},
   "outputs": [
    {
     "name": "stdout",
     "output_type": "stream",
     "text": [
      "tf.Tensor([   2   45  133   71  595   49 4827   32 6594  227], shape=(10,), dtype=int64)\n",
      "tf.Tensor([  45  133   71  595   49 4827   32 6594  227  950], shape=(10,), dtype=int64)\n"
     ]
    }
   ],
   "source": [
    "print(en[0][:10]) # Only show the first 10 tokens\n",
    "print(en_labels[0][:10])"
   ]
  },
  {
   "cell_type": "markdown",
   "id": "8bb1d492-6961-4fad-b505-802cccde204d",
   "metadata": {},
   "source": [
    "## 2. 建立模型並訓練"
   ]
  },
  {
   "cell_type": "markdown",
   "id": "58e6e54b-f545-4203-8fdf-891b34bd236c",
   "metadata": {},
   "source": [
    "定義超參數並建立模型。"
   ]
  },
  {
   "cell_type": "code",
   "execution_count": 57,
   "id": "1c892522-df3e-401d-be99-50f57690344b",
   "metadata": {},
   "outputs": [],
   "source": [
    "num_layers = 4\n",
    "d_model = 128\n",
    "dff = 512\n",
    "num_heads = 8\n",
    "dropout_rate = 0.1"
   ]
  },
  {
   "cell_type": "code",
   "execution_count": 58,
   "id": "595ad079-03a0-440f-ab1a-9a4ef52a57dc",
   "metadata": {},
   "outputs": [],
   "source": [
    "transformer = Transformer(num_layers=num_layers,\n",
    "                          d_model=d_model,\n",
    "                          num_heads=num_heads,\n",
    "                          dff=dff,\n",
    "                          input_vocab_size=tokenizers.pt.get_vocab_size().numpy(),\n",
    "                          target_vocab_size=tokenizers.en.get_vocab_size().numpy(),\n",
    "                          dropout_rate=dropout_rate)"
   ]
  },
  {
   "cell_type": "markdown",
   "id": "203459dc-8db0-41a5-adca-c9ea1f841b7f",
   "metadata": {},
   "source": [
    "建立optimizer。"
   ]
  },
  {
   "cell_type": "code",
   "execution_count": 59,
   "id": "00d01b8c-2451-49e7-97fe-1705908c7758",
   "metadata": {},
   "outputs": [],
   "source": [
    "learning_rate = CustomSchedule(d_model)\n",
    "optimizer = tf.keras.optimizers.Adam(learning_rate, beta_1=0.9, beta_2=0.98, epsilon=1e-9)"
   ]
  },
  {
   "cell_type": "markdown",
   "id": "079ef9fc-574f-4e28-b1cc-eba19ec04d1e",
   "metadata": {},
   "source": [
    "開始訓練囉！！"
   ]
  },
  {
   "cell_type": "code",
   "execution_count": 60,
   "id": "26f8105a-9a96-4483-ac64-f8deb52cf27b",
   "metadata": {},
   "outputs": [],
   "source": [
    "transformer.compile(loss=masked_loss,\n",
    "                    optimizer=optimizer,\n",
    "                    metrics=[masked_accuracy])"
   ]
  },
  {
   "cell_type": "code",
   "execution_count": 61,
   "id": "aec8ed48-d4a2-44f2-9354-5bf33d1e2fc6",
   "metadata": {},
   "outputs": [
    {
     "name": "stdout",
     "output_type": "stream",
     "text": [
      "Epoch 1/20\n",
      "1619/1619 [==============================] - 38s 21ms/step - loss: 5.7517 - masked_accuracy: 0.1989 - val_loss: 4.3533 - val_masked_accuracy: 0.3288\n",
      "Epoch 2/20\n",
      "1619/1619 [==============================] - 33s 20ms/step - loss: 4.0618 - masked_accuracy: 0.3552 - val_loss: 3.6093 - val_masked_accuracy: 0.4144\n",
      "Epoch 3/20\n",
      "1619/1619 [==============================] - 33s 20ms/step - loss: 3.4499 - masked_accuracy: 0.4236 - val_loss: 3.0367 - val_masked_accuracy: 0.4863\n",
      "Epoch 4/20\n",
      "1619/1619 [==============================] - 33s 20ms/step - loss: 2.9188 - masked_accuracy: 0.4869 - val_loss: 2.6813 - val_masked_accuracy: 0.5323\n",
      "Epoch 5/20\n",
      "1619/1619 [==============================] - 34s 21ms/step - loss: 2.5792 - masked_accuracy: 0.5283 - val_loss: 2.5007 - val_masked_accuracy: 0.5519\n",
      "Epoch 6/20\n",
      "1619/1619 [==============================] - 34s 21ms/step - loss: 2.3555 - masked_accuracy: 0.5566 - val_loss: 2.3762 - val_masked_accuracy: 0.5750\n",
      "Epoch 7/20\n",
      "1619/1619 [==============================] - 33s 21ms/step - loss: 2.1904 - masked_accuracy: 0.5790 - val_loss: 2.3144 - val_masked_accuracy: 0.5845\n",
      "Epoch 8/20\n",
      "1619/1619 [==============================] - 34s 21ms/step - loss: 2.0622 - masked_accuracy: 0.5964 - val_loss: 2.2242 - val_masked_accuracy: 0.5943\n",
      "Epoch 9/20\n",
      "1619/1619 [==============================] - 33s 21ms/step - loss: 1.9602 - masked_accuracy: 0.6104 - val_loss: 2.2112 - val_masked_accuracy: 0.5986\n",
      "Epoch 10/20\n",
      "1619/1619 [==============================] - 33s 21ms/step - loss: 1.8761 - masked_accuracy: 0.6227 - val_loss: 2.1817 - val_masked_accuracy: 0.6050\n",
      "Epoch 11/20\n",
      "1619/1619 [==============================] - 34s 21ms/step - loss: 1.8019 - masked_accuracy: 0.6338 - val_loss: 2.1465 - val_masked_accuracy: 0.6097\n",
      "Epoch 12/20\n",
      "1619/1619 [==============================] - 33s 21ms/step - loss: 1.7413 - masked_accuracy: 0.6426 - val_loss: 2.1385 - val_masked_accuracy: 0.6140\n",
      "Epoch 13/20\n",
      "1619/1619 [==============================] - 33s 21ms/step - loss: 1.6832 - masked_accuracy: 0.6511 - val_loss: 2.0939 - val_masked_accuracy: 0.6205\n",
      "Epoch 14/20\n",
      "1619/1619 [==============================] - 34s 21ms/step - loss: 1.6374 - masked_accuracy: 0.6580 - val_loss: 2.0965 - val_masked_accuracy: 0.6173\n",
      "Epoch 15/20\n",
      "1619/1619 [==============================] - 34s 21ms/step - loss: 1.5907 - masked_accuracy: 0.6656 - val_loss: 2.0893 - val_masked_accuracy: 0.6230\n",
      "Epoch 16/20\n",
      "1619/1619 [==============================] - 34s 21ms/step - loss: 1.5521 - masked_accuracy: 0.6714 - val_loss: 2.0888 - val_masked_accuracy: 0.6207\n",
      "Epoch 17/20\n",
      "1619/1619 [==============================] - 40s 25ms/step - loss: 1.5146 - masked_accuracy: 0.6774 - val_loss: 2.0901 - val_masked_accuracy: 0.6262\n",
      "Epoch 18/20\n",
      "1619/1619 [==============================] - 40s 24ms/step - loss: 1.4812 - masked_accuracy: 0.6826 - val_loss: 2.0863 - val_masked_accuracy: 0.6231\n",
      "Epoch 19/20\n",
      "1619/1619 [==============================] - 38s 24ms/step - loss: 1.4524 - masked_accuracy: 0.6867 - val_loss: 2.0878 - val_masked_accuracy: 0.6267\n",
      "Epoch 20/20\n",
      "1619/1619 [==============================] - 39s 24ms/step - loss: 1.4204 - masked_accuracy: 0.6924 - val_loss: 2.0858 - val_masked_accuracy: 0.6285\n"
     ]
    },
    {
     "data": {
      "text/plain": [
       "<keras.callbacks.History at 0x70bb1026fe20>"
      ]
     },
     "execution_count": 61,
     "metadata": {},
     "output_type": "execute_result"
    }
   ],
   "source": [
    "transformer.fit(train_batches,\n",
    "                epochs=20,\n",
    "                validation_data=val_batches)"
   ]
  },
  {
   "cell_type": "markdown",
   "id": "9442d71e-fad9-4e6d-8ec2-5c872f113cfa",
   "metadata": {},
   "source": [
    "# 六. Transformer的Inference"
   ]
  },
  {
   "cell_type": "markdown",
   "id": "96e94323-9da2-4a9f-8012-2b8f52084848",
   "metadata": {},
   "source": [
    "## 1. 何謂Inference\n",
    "Transformer在實際拿來用的時候稱為inference。它在產生output的時候與一般神經網路有點差異。以這個將葡萄牙語翻為英文的task來說：\n",
    "1. 將葡萄牙文句子encode並作為encoder的input\n",
    "2. decoder的input先塞[START]進去，predict出第一個token\n",
    "3. 將產生的token作為decoder的input，encoder的input為原本的句子不變，預測下一個token\n",
    "4. 重複2,3，將所有token疊起來\n",
    "5. 當模型預測出下一個token是[END]或是已經預測了`MAX_TOKENS`個token時結束並輸出\n",
    "\n",
    "這個過程就像文字接龍一樣。我們可以定義一個`Translator`的class來實作之"
   ]
  },
  {
   "cell_type": "code",
   "execution_count": 62,
   "id": "63a7d899-6bc1-47d0-9859-5d674570af82",
   "metadata": {},
   "outputs": [],
   "source": [
    "class Translator(tf.Module):\n",
    "    def __init__(self, tokenizers, transformer):\n",
    "        self.tokenizers = tokenizers\n",
    "        self.transformer = transformer\n",
    "\n",
    "    def __call__(self, sentence, max_length=MAX_TOKENS):\n",
    "        ''' args:\n",
    "            sentence: input sentence is Portuguese\n",
    "            max_length: When the number of tokens of predicted strings > this number, terminate the inference\n",
    "        '''\n",
    "        assert isinstance(sentence, tf.Tensor)\n",
    "        if len(sentence.shape) == 0: # Empty input\n",
    "            sentence = sentence[tf.newaxis] \n",
    "\n",
    "        # Encode the input sentence\n",
    "        sentence = self.tokenizers.pt.tokenize(sentence).to_tensor()\n",
    "        encoder_input = sentence\n",
    "\n",
    "        # The decoder input is initialized as the English `[START]` token.\n",
    "        start_end = self.tokenizers.en.tokenize([''])[0]\n",
    "        start = start_end[0][tf.newaxis]\n",
    "        end = start_end[1][tf.newaxis]\n",
    "\n",
    "        '''\n",
    "            Initialize the output array. \n",
    "            `tf.TensorArray` is required here (instead of a Python list), \n",
    "            so that the dynamic-loop can be traced by `tf.function`.\n",
    "        '''\n",
    "        output_array = tf.TensorArray(dtype=tf.int64, size=0, dynamic_size=True)\n",
    "        output_array = output_array.write(0, start)\n",
    "\n",
    "        # 進行文字接龍\n",
    "        for i in tf.range(max_length):\n",
    "            output = tf.transpose(output_array.stack())\n",
    "            predictions = self.transformer([encoder_input, output], training=False)\n",
    "\n",
    "            # Select the last token from the `seq_len` dimension.\n",
    "            predictions = predictions[:, -1:, :]  # Shape `(batch_size, 1, vocab_size)`.\n",
    "\n",
    "            predicted_id = tf.argmax(predictions, axis=-1)\n",
    "\n",
    "            # Concatenate the `predicted_id` to the output given to the\n",
    "            # decoder as its input.\n",
    "            output_array = output_array.write(i+1, predicted_id[0])\n",
    "\n",
    "            if predicted_id == end:\n",
    "                break\n",
    "\n",
    "        # Stack all the output tokens\n",
    "        output = tf.transpose(output_array.stack()) # The output shape is `(1, tokens)`.\n",
    "\n",
    "        # detokenize the output sequence of tokens\n",
    "        text = tokenizers.en.detokenize(output)[0]  # Shape: `()`. This is the output\n",
    "        tokens = tokenizers.en.lookup(output)[0]\n",
    "\n",
    "        '''\n",
    "            get the attention weight (optional):\n",
    "            `tf.function` prevents us from using the attention_weights that were\n",
    "            calculated on the last iteration of the loop.\n",
    "            So, recalculate them outside the loop.\n",
    "        '''\n",
    "        self.transformer([encoder_input, output[:,:-1]], training=False)\n",
    "        attention_weights = self.transformer.decoder.last_attn_scores\n",
    "\n",
    "        return text, tokens, attention_weights"
   ]
  },
  {
   "cell_type": "code",
   "execution_count": 63,
   "id": "83be6e43-0dbd-489e-83e7-145d65d745b7",
   "metadata": {},
   "outputs": [],
   "source": [
    "translator = Translator(tokenizers, transformer)"
   ]
  },
  {
   "cell_type": "markdown",
   "id": "c3fd943c-8657-446c-906f-9f35af64ff83",
   "metadata": {},
   "source": [
    "舉例：下列這句葡萄牙語正確的英文翻譯是'this is a problem we have to solve .'"
   ]
  },
  {
   "cell_type": "code",
   "execution_count": 64,
   "id": "d73d934d-37ad-4597-a372-ce59a647c2d8",
   "metadata": {},
   "outputs": [],
   "source": [
    "sentence = 'este é um problema que temos que resolver.'\n",
    "translated_text, translated_tokens, attention_weights = translator(tf.constant(sentence))"
   ]
  },
  {
   "cell_type": "code",
   "execution_count": 65,
   "id": "b40d09eb-3dc8-4110-b489-270be8cc426e",
   "metadata": {},
   "outputs": [
    {
     "data": {
      "text/plain": [
       "'this is a problem that we have to solve .'"
      ]
     },
     "execution_count": 65,
     "metadata": {},
     "output_type": "execute_result"
    }
   ],
   "source": [
    "translated_text.numpy().decode()"
   ]
  },
  {
   "cell_type": "code",
   "execution_count": 66,
   "id": "731691e7-e9e5-41cc-baf6-89b84c1249ce",
   "metadata": {},
   "outputs": [
    {
     "name": "stdout",
     "output_type": "stream",
     "text": [
      "['[START]' 'this' 'is' 'a' 'problem' 'that' 'we' 'have' 'to' 'solve' '.'\n",
      " '[END]']\n"
     ]
    }
   ],
   "source": [
    "print(np.char.decode(translated_tokens.numpy().astype(np.bytes_), 'UTF-8'))"
   ]
  },
  {
   "cell_type": "markdown",
   "id": "1ecd2141-c659-49b6-9bd3-192fcdf6b470",
   "metadata": {},
   "source": [
    "## 2. Attention Plots\n",
    "來把每一個head的attention map都給畫出來，看看模型到底學到了什麼。"
   ]
  },
  {
   "cell_type": "code",
   "execution_count": 67,
   "id": "dccb3ef5-002c-4987-bd4c-79757d08741c",
   "metadata": {},
   "outputs": [],
   "source": [
    "def plot_attention_head(in_tokens, translated_tokens, attention):\n",
    "    '''\n",
    "        function to plot the attention map for 1 head\n",
    "        The model didn't generate `<START>` in the output. Skip it.\n",
    "    '''\n",
    "    translated_tokens = translated_tokens[1:]\n",
    "\n",
    "    ax = plt.gca()\n",
    "    ax.matshow(attention)\n",
    "    ax.set_xticks(range(len(in_tokens)))\n",
    "    ax.set_yticks(range(len(translated_tokens)))\n",
    "\n",
    "    labels = [label.decode('utf-8') for label in in_tokens.numpy()]\n",
    "    ax.set_xticklabels(labels, rotation=90)\n",
    "\n",
    "    labels = [label.decode('utf-8') for label in translated_tokens.numpy()]\n",
    "    ax.set_yticklabels(labels)"
   ]
  },
  {
   "cell_type": "code",
   "execution_count": 68,
   "id": "2a9d0628-9969-4e86-b335-a285e93b199e",
   "metadata": {},
   "outputs": [],
   "source": [
    "def plot_attention_weights(sentence, translated_tokens, attention_heads):\n",
    "    in_tokens = tf.convert_to_tensor([sentence])\n",
    "    in_tokens = tokenizers.pt.tokenize(in_tokens).to_tensor()\n",
    "    in_tokens = tokenizers.pt.lookup(in_tokens)[0]\n",
    "\n",
    "    fig = plt.figure(figsize=(16, 8))\n",
    "    for h, head in enumerate(attention_heads):\n",
    "        ax = fig.add_subplot(2, 4, h+1)\n",
    "        plot_attention_head(in_tokens, translated_tokens, head)\n",
    "    ax.set_xlabel(f'Head {h+1}')\n",
    "    \n",
    "    plt.tight_layout()\n",
    "    plt.show()"
   ]
  },
  {
   "cell_type": "code",
   "execution_count": 69,
   "id": "a934f772-491c-4ef0-9cc3-219d7d1be9fb",
   "metadata": {},
   "outputs": [
    {
     "data": {
      "image/png": "[encoded data removed]",
      "text/plain": [
       "<Figure size 1600x800 with 8 Axes>"
      ]
     },
     "metadata": {},
     "output_type": "display_data"
    }
   ],
   "source": [
    "plot_attention_weights(sentence, translated_tokens, attention_weights[0]) # attention_weights.shape=[1, 8, 11, 11]"
   ]
  },
  {
   "cell_type": "markdown",
   "id": "fb9f99ca-1264-4503-a569-234053e0ca7b",
   "metadata": {},
   "source": [
    "## 3. 模型輸出\n",
    "就Translator這個class外面包裝一層API，使其直接以葡萄牙語的語句作為輸入，並直接得到輸出。"
   ]
  },
  {
   "cell_type": "code",
   "execution_count": 70,
   "id": "535cea23-3fff-4e93-afdd-ac4a06d9f719",
   "metadata": {},
   "outputs": [],
   "source": [
    "class ExportTranslator(tf.Module):\n",
    "    def __init__(self, translator):\n",
    "        self.translator = translator\n",
    "\n",
    "    @tf.function(input_signature=[tf.TensorSpec(shape=[], dtype=tf.string)])\n",
    "    def __call__(self, sentence):\n",
    "        (result, tokens, attention_weights) = self.translator(sentence, max_length=MAX_TOKENS)\n",
    "        return result"
   ]
  },
  {
   "cell_type": "code",
   "execution_count": 71,
   "id": "02053e8d-59d4-4444-bf17-3cfac299a213",
   "metadata": {},
   "outputs": [],
   "source": [
    "export_translator = ExportTranslator(translator)"
   ]
  },
  {
   "cell_type": "code",
   "execution_count": 72,
   "id": "54577b4d-8111-43fd-993f-33ff62ec9f91",
   "metadata": {},
   "outputs": [
    {
     "data": {
      "text/plain": [
       "'this is the first book i made .'"
      ]
     },
     "execution_count": 72,
     "metadata": {},
     "output_type": "execute_result"
    }
   ],
   "source": [
    "export_translator('este é o primeiro livro que eu fiz.').numpy().decode()"
   ]
  },
  {
   "cell_type": "raw",
   "id": "e0c0ce93-c978-437b-b796-99ac89fda69e",
   "metadata": {},
   "source": [
    "將此模型以Tensorflow的SavedModel format存起來。"
   ]
  },
  {
   "cell_type": "code",
   "execution_count": 73,
   "id": "f896ddaf-7f15-4ff3-aab8-7b4fa3e96b99",
   "metadata": {},
   "outputs": [
    {
     "name": "stderr",
     "output_type": "stream",
     "text": [
      "WARNING:absl:Found untraced functions such as positional_embedding_4_layer_call_fn, positional_embedding_4_layer_call_and_return_conditional_losses, dropout_53_layer_call_fn, dropout_53_layer_call_and_return_conditional_losses, dropout_54_layer_call_fn while saving (showing 5 of 316). These functions will not be directly callable after loading.\n"
     ]
    },
    {
     "name": "stdout",
     "output_type": "stream",
     "text": [
      "INFO:tensorflow:Assets written to: pt-en-translator/assets\n"
     ]
    },
    {
     "name": "stderr",
     "output_type": "stream",
     "text": [
      "INFO:tensorflow:Assets written to: pt-en-translator/assets\n"
     ]
    }
   ],
   "source": [
    "tf.saved_model.save(export_translator, export_dir='pt-en-translator')"
   ]
  },
  {
   "cell_type": "markdown",
   "id": "e182cb62-8b8c-4b38-81e3-1da13018588f",
   "metadata": {},
   "source": [
    "如果以後還要用，就用這行code來load"
   ]
  },
  {
   "cell_type": "code",
   "execution_count": 74,
   "id": "cd6dfc7f-167d-4c1a-b744-2e8986a94058",
   "metadata": {},
   "outputs": [],
   "source": [
    "# reloaded_model = tf.saved_model.load('pt-en-translator')"
   ]
  },
  {
   "cell_type": "markdown",
   "id": "df1d59f2-8ccf-41ec-ac74-007f41cc4218",
   "metadata": {},
   "source": [
    "## Credits:\n",
    "1. [Neural machine translation with a Transformer and Keras](https://www.tensorflow.org/text/tutorials/transformer#the_feed_forward_network)\n",
    "2. [理解语言的 Transformer 模型](https://www.tensorflow.org/tutorials/text/transformer?hl=zh-cn#%E6%80%BB%E7%BB%93)"
   ]
  }
 ],
 "metadata": {
  "kernelspec": {
   "display_name": "Python 3 (ipykernel)",
   "language": "python",
   "name": "python3"
  },
  "language_info": {
   "codemirror_mode": {
    "name": "ipython",
    "version": 3
   },
   "file_extension": ".py",
   "mimetype": "text/x-python",
   "name": "python",
   "nbconvert_exporter": "python",
   "pygments_lexer": "ipython3",
   "version": "3.8.0"
  }
 },
 "nbformat": 4,
 "nbformat_minor": 5
}
